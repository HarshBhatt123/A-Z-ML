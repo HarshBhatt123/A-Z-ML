{
  "cells": [
    {
      "cell_type": "markdown",
      "metadata": {
        "id": "view-in-github",
        "colab_type": "text"
      },
      "source": [
        "<a href=\"https://colab.research.google.com/github/HarshBhatt123/A-Z-ML/blob/main/XG_boost.ipynb\" target=\"_parent\"><img src=\"https://colab.research.google.com/assets/colab-badge.svg\" alt=\"Open In Colab\"/></a>"
      ]
    },
    {
      "cell_type": "markdown",
      "metadata": {
        "id": "8FLud1n-3pVm"
      },
      "source": [
        "# XGBoost"
      ]
    },
    {
      "cell_type": "markdown",
      "metadata": {
        "id": "sO8VPU6n3vES"
      },
      "source": [
        "## Importing the libraries"
      ]
    },
    {
      "cell_type": "code",
      "execution_count": 1,
      "metadata": {
        "id": "clDSsF7P33NU"
      },
      "outputs": [],
      "source": [
        "import numpy as np\n",
        "import matplotlib.pyplot as plt\n",
        "import pandas as pd"
      ]
    },
    {
      "cell_type": "markdown",
      "metadata": {
        "id": "zGpwK5XD386E"
      },
      "source": [
        "## Importing the dataset"
      ]
    },
    {
      "cell_type": "code",
      "execution_count": 2,
      "metadata": {
        "id": "Zcksk88u4Ae8"
      },
      "outputs": [],
      "source": [
        "dataset = pd.read_csv('dataset.csv')\n",
        "X = dataset.iloc[:, 1:].values\n",
        "y = dataset.iloc[:, 0].values"
      ]
    },
    {
      "cell_type": "code",
      "execution_count": 3,
      "metadata": {
        "colab": {
          "base_uri": "https://localhost:8080/"
        },
        "id": "HlVrIQnCpUql",
        "outputId": "3933ba97-ee9e-4b02-c3e5-9a4b3e190394"
      },
      "outputs": [
        {
          "output_type": "stream",
          "name": "stdout",
          "text": [
            "[[38 'Married' 'INR 20,001 to 30,000' ...\n",
            "  'Often (once or twice in weekly trips)' 'Heavy traffic'\n",
            "  'Co-driver takes over driving']\n",
            " [40 'Married' 'INR 20,001 to 30,000' ...\n",
            "  'Often (once or twice in weekly trips)' 'Poor sleep'\n",
            "  'Co-driver takes over driving']\n",
            " [39 'Single' 'INR 30,000 and above' ...\n",
            "  'Sometimes (once or twice in a monthly trip)' 'Vehicle heat'\n",
            "  'Co-driver takes over driving']\n",
            " ...\n",
            " [46 'Married' 'INR 10,001 to 20,000' ...\n",
            "  'Sometimes (once or twice in a monthly trip)' 'Poor sleep'\n",
            "  'Wash face and drink water']\n",
            " [42 'Married' 'INR 10,001 to 20,000' ...\n",
            "  'Sometimes (once or twice in a monthly trip)' 'Poor sleep'\n",
            "  'Wash face and drink water']\n",
            " [46 'Married' 'INR 10,001 to 20,000' ...\n",
            "  'Sometimes (once or twice in a monthly trip)' 'Long driving time'\n",
            "  'Smoke/chew tobacco or drug']]\n"
          ]
        }
      ],
      "source": [
        "print(X)"
      ]
    },
    {
      "cell_type": "code",
      "execution_count": 4,
      "metadata": {
        "colab": {
          "base_uri": "https://localhost:8080/"
        },
        "id": "k7SCz5a3pYYN",
        "outputId": "0d199c43-99a2-4742-dda3-8890aebd23ed"
      },
      "outputs": [
        {
          "output_type": "stream",
          "name": "stdout",
          "text": [
            "['2=Sometimes' '2=Sometimes' '4=Nearly all the time' '3=Very often'\n",
            " '3=Very often' '3=Very often' '1=Rarely' '3=Very often'\n",
            " '4=Nearly all the time' '3=Very often' '2=Sometimes' '3=Very often'\n",
            " '3=Very often' '3=Very often' '3=Very often' '3=Very often'\n",
            " '3=Very often' '2=Sometimes' '3=Very often' '2=Sometimes' '3=Very often'\n",
            " '3=Very often' '2=Sometimes' '3=Very often' '4=Nearly all the time'\n",
            " '2=Sometimes' '1=Rarely' '2=Sometimes' '2=Sometimes' '3=Very often'\n",
            " '1=Rarely' '2=Sometimes' '3=Very often' '2=Sometimes' '2=Sometimes'\n",
            " '3=Very often' '4=Nearly all the time' '3=Very often' '1=Rarely'\n",
            " '2=Sometimes' '3=Very often' '2=Sometimes' '3=Very often' '3=Very often'\n",
            " '2=Sometimes' '3=Very often' '0=Never' '2=Sometimes' '1=Rarely'\n",
            " '2=Sometimes' '1=Rarely' '2=Sometimes' '2=Sometimes' '1=Rarely'\n",
            " '3=Very often' '2=Sometimes' '2=Sometimes' '3=Very often' '2=Sometimes'\n",
            " '4=Nearly all the time' '2=Sometimes' '2=Sometimes' '2=Sometimes'\n",
            " '3=Very often' '4=Nearly all the time' '2=Sometimes'\n",
            " '4=Nearly all the time' '0=Never' '1=Rarely' '2=Sometimes' '1=Rarely'\n",
            " '2=Sometimes' '3=Very often' '2=Sometimes' '3=Very often' '2=Sometimes'\n",
            " '3=Very often' '2=Sometimes' '2=Sometimes' '3=Very often' '1=Rarely'\n",
            " '1=Rarely' '4=Nearly all the time' '0=Never' '3=Very often'\n",
            " '3=Very often' '0=Never' '3=Very often' '3=Very often' '1=Rarely'\n",
            " '3=Very often' '3=Very often' '3=Very often' '1=Rarely' '3=Very often'\n",
            " '3=Very often' '1=Rarely' '3=Very often' '1=Rarely' '3=Very often']\n"
          ]
        }
      ],
      "source": [
        "print(y)"
      ]
    },
    {
      "cell_type": "markdown",
      "metadata": {
        "id": "vkIgcaLbqRdk"
      },
      "source": [
        "## Taking care of Missing data\n"
      ]
    },
    {
      "cell_type": "code",
      "execution_count": 5,
      "metadata": {
        "colab": {
          "base_uri": "https://localhost:8080/"
        },
        "id": "77lpSAkfpb4p",
        "outputId": "aa5594c2-4693-4f66-d6ad-a48d55b9a540"
      },
      "outputs": [
        {
          "output_type": "execute_result",
          "data": {
            "text/plain": [
              "Y      0\n",
              "X1     0\n",
              "X2     0\n",
              "X3     0\n",
              "X4     0\n",
              "X5     0\n",
              "X6     0\n",
              "X7     0\n",
              "X8     0\n",
              "X9     0\n",
              "X10    0\n",
              "X11    0\n",
              "X12    0\n",
              "X13    0\n",
              "X14    0\n",
              "X15    0\n",
              "X16    0\n",
              "X17    1\n",
              "X18    0\n",
              "X19    0\n",
              "X20    0\n",
              "X21    1\n",
              "X22    0\n",
              "X23    0\n",
              "X24    0\n",
              "dtype: int64"
            ]
          },
          "metadata": {},
          "execution_count": 5
        }
      ],
      "source": [
        "dataset.isnull().sum(axis=0)"
      ]
    },
    {
      "cell_type": "code",
      "execution_count": 6,
      "metadata": {
        "id": "kx69YQiHpe7j"
      },
      "outputs": [],
      "source": [
        "for col in dataset.columns:\n",
        "\n",
        "  dataset[col].fillna(dataset[col].mode()[0], inplace=True)"
      ]
    },
    {
      "cell_type": "code",
      "execution_count": 7,
      "metadata": {
        "colab": {
          "base_uri": "https://localhost:8080/"
        },
        "id": "a5dhonFkpoqX",
        "outputId": "5f0882ee-660f-4635-d600-c87eeb7910fa"
      },
      "outputs": [
        {
          "output_type": "execute_result",
          "data": {
            "text/plain": [
              "Y      0\n",
              "X1     0\n",
              "X2     0\n",
              "X3     0\n",
              "X4     0\n",
              "X5     0\n",
              "X6     0\n",
              "X7     0\n",
              "X8     0\n",
              "X9     0\n",
              "X10    0\n",
              "X11    0\n",
              "X12    0\n",
              "X13    0\n",
              "X14    0\n",
              "X15    0\n",
              "X16    0\n",
              "X17    0\n",
              "X18    0\n",
              "X19    0\n",
              "X20    0\n",
              "X21    0\n",
              "X22    0\n",
              "X23    0\n",
              "X24    0\n",
              "dtype: int64"
            ]
          },
          "metadata": {},
          "execution_count": 7
        }
      ],
      "source": [
        "dataset.isnull().sum(axis=0)\n"
      ]
    },
    {
      "cell_type": "code",
      "execution_count": 8,
      "metadata": {
        "colab": {
          "base_uri": "https://localhost:8080/"
        },
        "id": "jcvrZeT_rAJu",
        "outputId": "ca0cc1b3-6f03-48ec-f1b1-395530ca972f"
      },
      "outputs": [
        {
          "output_type": "stream",
          "name": "stdout",
          "text": [
            "Y \n",
            "\n",
            "\n",
            "3=Very often             41\n",
            "2=Sometimes              32\n",
            "1=Rarely                 15\n",
            "4=Nearly all the time     8\n",
            "0=Never                   4\n",
            "Name: Y, dtype: int64\n",
            "------------------------------\n",
            "X1 \n",
            "\n",
            "\n",
            "42    7\n",
            "45    7\n",
            "46    6\n",
            "52    6\n",
            "48    6\n",
            "40    5\n",
            "53    5\n",
            "44    5\n",
            "37    4\n",
            "50    4\n",
            "35    3\n",
            "27    3\n",
            "36    3\n",
            "41    3\n",
            "54    3\n",
            "39    3\n",
            "28    3\n",
            "57    2\n",
            "25    2\n",
            "58    2\n",
            "38    2\n",
            "34    2\n",
            "62    1\n",
            "68    1\n",
            "26    1\n",
            "73    1\n",
            "49    1\n",
            "55    1\n",
            "23    1\n",
            "32    1\n",
            "33    1\n",
            "59    1\n",
            "47    1\n",
            "30    1\n",
            "29    1\n",
            "51    1\n",
            "Name: X1, dtype: int64\n",
            "------------------------------\n",
            "X2 \n",
            "\n",
            "\n",
            "Married    90\n",
            "Single     10\n",
            "Name: X2, dtype: int64\n",
            "------------------------------\n",
            "X3 \n",
            "\n",
            "\n",
            "INR 20,001 to 30,000    51\n",
            "INR 10,001 to 20,000    38\n",
            "INR 30,000 and above     9\n",
            "Up to INR 10,000         2\n",
            "Name: X3, dtype: int64\n",
            "------------------------------\n",
            "X4 \n",
            "\n",
            "\n",
            "Grade 9-10      29\n",
            "Grade 5-8       28\n",
            "Grade 11-12     17\n",
            "Grade 1-5       13\n",
            "Any degree      11\n",
            "No schooling     2\n",
            "Name: X4, dtype: int64\n",
            "------------------------------\n",
            "X5 \n",
            "\n",
            "\n",
            "4    58\n",
            "5    20\n",
            "3     9\n",
            "6     7\n",
            "2     4\n",
            "1     1\n",
            "9     1\n",
            "Name: X5, dtype: int64\n",
            "------------------------------\n",
            "X6 \n",
            "\n",
            "\n",
            "15    16\n",
            "25    10\n",
            "20     9\n",
            "10     7\n",
            "2      5\n",
            "12     4\n",
            "17     4\n",
            "5      3\n",
            "32     3\n",
            "16     3\n",
            "26     3\n",
            "24     3\n",
            "4      3\n",
            "23     2\n",
            "8      2\n",
            "3      2\n",
            "30     2\n",
            "22     2\n",
            "7      2\n",
            "18     2\n",
            "27     2\n",
            "9      1\n",
            "28     1\n",
            "31     1\n",
            "34     1\n",
            "19     1\n",
            "43     1\n",
            "13     1\n",
            "29     1\n",
            "37     1\n",
            "11     1\n",
            "35     1\n",
            "Name: X6, dtype: int64\n",
            "------------------------------\n",
            "X7 \n",
            "\n",
            "\n",
            "31 or above    49\n",
            "16-25          22\n",
            "25-31          17\n",
            "3-9             6\n",
            "9-16            6\n",
            "Name: X7, dtype: int64\n",
            "------------------------------\n",
            "X8 \n",
            "\n",
            "\n",
            "Employee      95\n",
            "Self-owned     4\n",
            "Contractor     1\n",
            "Name: X8, dtype: int64\n",
            "------------------------------\n",
            "X9 \n",
            "\n",
            "\n",
            "3-5             37\n",
            "6-10            35\n",
            "More than 10    21\n",
            "Upto 2           7\n",
            "Name: X9, dtype: int64\n",
            "------------------------------\n",
            "X10 \n",
            "\n",
            "\n",
            "6-10            45\n",
            "9-15            36\n",
            "More than 15    15\n",
            "1-5              4\n",
            "Name: X10, dtype: int64\n",
            "------------------------------\n",
            "X11 \n",
            "\n",
            "\n",
            "Food                         24\n",
            "All goods/ parcel service    24\n",
            "Textile                      17\n",
            "Construction                 12\n",
            "Raw materials                12\n",
            "Gas                           5\n",
            "Electrical                    3\n",
            "Vehicular segments            3\n",
            "Name: X11, dtype: int64\n",
            "------------------------------\n",
            "X12 \n",
            "\n",
            "\n",
            "1-4        51\n",
            "4-5        22\n",
            "Above 6    11\n",
            "5-6         9\n",
            "upto 1      7\n",
            "Name: X12, dtype: int64\n",
            "------------------------------\n",
            "X13 \n",
            "\n",
            "\n",
            "Fuel stop       44\n",
            "Parking bays    34\n",
            "Hotel           16\n",
            "Toll plaza       6\n",
            "Name: X13, dtype: int64\n",
            "------------------------------\n",
            "X14 \n",
            "\n",
            "\n",
            "Never        46\n",
            "Sometimes    45\n",
            "Always        9\n",
            "Name: X14, dtype: int64\n",
            "------------------------------\n",
            "X15 \n",
            "\n",
            "\n",
            "On completion of work (on delivery)    76\n",
            "Fixed monthly salary (time based)      17\n",
            "On basis of Km driven (trip length)     7\n",
            "Name: X15, dtype: int64\n",
            "------------------------------\n",
            "X16 \n",
            "\n",
            "\n",
            "Normal weight    54\n",
            "Overweight       40\n",
            "Underweight       6\n",
            "Name: X16, dtype: int64\n",
            "------------------------------\n",
            "X17 \n",
            "\n",
            "\n",
            "0                    56\n",
            "More than 5 times    22\n",
            "1-5 times            22\n",
            "Name: X17, dtype: int64\n",
            "------------------------------\n",
            "X18 \n",
            "\n",
            "\n",
            "4-6        43\n",
            "1-3        28\n",
            "Above 6    25\n",
            "0           4\n",
            "Name: X18, dtype: int64\n",
            "------------------------------\n",
            "X19 \n",
            "\n",
            "\n",
            "6     30\n",
            "4     26\n",
            "5     21\n",
            "8      9\n",
            "7      6\n",
            "3      5\n",
            "2      2\n",
            "12     1\n",
            "Name: X19, dtype: int64\n",
            "------------------------------\n",
            "X20 \n",
            "\n",
            "\n",
            "Sometimes (once or twice in montly trips)    49\n",
            "Often (once or twice in weekly trips)        40\n",
            "Never                                        11\n",
            "Name: X20, dtype: int64\n",
            "------------------------------\n",
            "X21 \n",
            "\n",
            "\n",
            "No     53\n",
            "Yes    47\n",
            "Name: X21, dtype: int64\n",
            "------------------------------\n",
            "X22 \n",
            "\n",
            "\n",
            "Sometimes (once or twice in a monthly trip)    63\n",
            "Never                                          21\n",
            "Often (once or twice in weekly trips)          16\n",
            "Name: X22, dtype: int64\n",
            "------------------------------\n",
            "X23 \n",
            "\n",
            "\n",
            "Poor sleep                       39\n",
            "Heavy traffic                    24\n",
            "Vehicle heat                     15\n",
            "Long driving time                14\n",
            "Bribes by authorities/ police     5\n",
            "Frequent checkpoints/ tolls       3\n",
            "Name: X23, dtype: int64\n",
            "------------------------------\n",
            "X24 \n",
            "\n",
            "\n",
            "Take a brief stop for tea/snack/refreshment    42\n",
            "Stop the vehicle and take rest                 16\n",
            "Wash face and drink water                      15\n",
            "Co-driver takes over driving                   14\n",
            "Smoke/chew tobacco or drug                     11\n",
            "Listen to radio/songs                           2\n",
            "Name: X24, dtype: int64\n",
            "------------------------------\n"
          ]
        }
      ],
      "source": [
        "for col in dataset.columns:\n",
        "  print(col,\"\\n\\n\")\n",
        "  print(dataset[col].value_counts())\n",
        "  print(\"------------------------------\")"
      ]
    },
    {
      "cell_type": "code",
      "execution_count": 9,
      "metadata": {
        "id": "J_nhhbsMrQkK"
      },
      "outputs": [],
      "source": [
        "def createMapping(col):\n",
        "  j=0\n",
        "  mapping_dict={}\n",
        "  for i in list(dict(dataset[col].value_counts()).keys()):\n",
        "    mapping_dict[i] = j\n",
        "    j+=1\n",
        "  return mapping_dict\n",
        "\n",
        "\n",
        "categorical_column=[\"X2\",\"X3\",\"X4\",\"X7\",\"X8\",\"X9\",\"X10\",\"X11\",\"X12\",\"X13\",\"X14\",\"X15\",\"X16\",\"X17\",\"X18\",\"X20\",\"X21\",\"X22\",\"X23\",\"X24\"]\n",
        "\n",
        "\n"
      ]
    },
    {
      "cell_type": "code",
      "execution_count": 10,
      "metadata": {
        "colab": {
          "base_uri": "https://localhost:8080/"
        },
        "id": "S8l-WsWJrbf_",
        "outputId": "21dbc26e-a6e2-4e13-cdd8-b3692068ae43"
      },
      "outputs": [
        {
          "output_type": "stream",
          "name": "stdout",
          "text": [
            "{'X2': {'Married': 0, 'Single': 1}}\n",
            "{'X3': {'INR 20,001 to 30,000': 0, 'INR 10,001 to 20,000': 1, 'INR 30,000 and above': 2, 'Up to INR 10,000': 3}}\n",
            "{'X4': {'Grade 9-10': 0, 'Grade 5-8': 1, 'Grade 11-12': 2, 'Grade 1-5': 3, 'Any degree': 4, 'No schooling': 5}}\n",
            "{'X7': {'31 or above': 0, '16-25': 1, '25-31': 2, '3-9': 3, '9-16': 4}}\n",
            "{'X8': {'Employee': 0, 'Self-owned': 1, 'Contractor': 2}}\n",
            "{'X9': {'3-5': 0, '6-10': 1, 'More than 10': 2, 'Upto 2': 3}}\n",
            "{'X10': {'6-10': 0, '9-15': 1, 'More than 15': 2, '1-5': 3}}\n",
            "{'X11': {'Food': 0, 'All goods/ parcel service': 1, 'Textile': 2, 'Construction': 3, 'Raw materials': 4, 'Gas': 5, 'Electrical': 6, 'Vehicular segments': 7}}\n",
            "{'X12': {'1-4': 0, '4-5': 1, 'Above 6': 2, '5-6': 3, 'upto 1': 4}}\n",
            "{'X13': {'Fuel stop': 0, 'Parking bays': 1, 'Hotel': 2, 'Toll plaza': 3}}\n",
            "{'X14': {'Never': 0, 'Sometimes': 1, 'Always': 2}}\n",
            "{'X15': {'On completion of work (on delivery)': 0, 'Fixed monthly salary (time based)': 1, 'On basis of Km driven (trip length)': 2}}\n",
            "{'X16': {'Normal weight': 0, 'Overweight': 1, 'Underweight': 2}}\n",
            "{'X17': {'0': 0, 'More than 5 times': 1, '1-5 times': 2}}\n",
            "{'X18': {'4-6': 0, '1-3': 1, 'Above 6': 2, '0': 3}}\n",
            "{'X20': {'Sometimes (once or twice in montly trips)': 0, 'Often (once or twice in weekly trips)': 1, 'Never': 2}}\n",
            "{'X21': {'No': 0, 'Yes': 1}}\n",
            "{'X22': {'Sometimes (once or twice in a monthly trip)': 0, 'Never': 1, 'Often (once or twice in weekly trips)': 2}}\n",
            "{'X23': {'Poor sleep': 0, 'Heavy traffic': 1, 'Vehicle heat': 2, 'Long driving time': 3, 'Bribes by authorities/ police': 4, 'Frequent checkpoints/ tolls': 5}}\n",
            "{'X24': {'Take a brief stop for tea/snack/refreshment': 0, 'Stop the vehicle and take rest': 1, 'Wash face and drink water': 2, 'Co-driver takes over driving': 3, 'Smoke/chew tobacco or drug': 4, 'Listen to radio/songs': 5}}\n"
          ]
        }
      ],
      "source": [
        "for col in categorical_column:\n",
        "  print({ col: createMapping(col) })\n",
        "  dataset.replace({ col: createMapping(col) }, inplace=True)"
      ]
    },
    {
      "cell_type": "code",
      "execution_count": 11,
      "metadata": {
        "colab": {
          "base_uri": "https://localhost:8080/",
          "height": 235
        },
        "id": "D30tPJXFrign",
        "outputId": "31ce7184-8ecc-4ce9-bb6c-823a5a548cdb"
      },
      "outputs": [
        {
          "output_type": "execute_result",
          "data": {
            "text/plain": [
              "                       Y  X1  X2  X3  X4  X5  X6  X7  X8  X9  ...  X15  X16  \\\n",
              "0            2=Sometimes  38   0   0   1   5   7   0   0   1  ...    0    2   \n",
              "1            2=Sometimes  40   0   0   0   5  15   3   0   2  ...    0    2   \n",
              "2  4=Nearly all the time  39   1   2   2   1  13   0   0   2  ...    0    2   \n",
              "3           3=Very often  59   0   0   1   4  20   0   0   1  ...    0    2   \n",
              "4           3=Very often  37   0   0   4   6  19   0   0   1  ...    0    2   \n",
              "\n",
              "   X17  X18  X19  X20  X21  X22  X23  X24  \n",
              "0    0    2    3    1    0    2    1    3  \n",
              "1    0    0    5    0    0    2    0    3  \n",
              "2    0    2    6    1    0    0    2    3  \n",
              "3    0    1    6    0    0    0    1    3  \n",
              "4    1    2    8    0    0    0    4    3  \n",
              "\n",
              "[5 rows x 25 columns]"
            ],
            "text/html": [
              "\n",
              "  <div id=\"df-214d318b-4df2-4d52-ac2f-478d78bc2990\">\n",
              "    <div class=\"colab-df-container\">\n",
              "      <div>\n",
              "<style scoped>\n",
              "    .dataframe tbody tr th:only-of-type {\n",
              "        vertical-align: middle;\n",
              "    }\n",
              "\n",
              "    .dataframe tbody tr th {\n",
              "        vertical-align: top;\n",
              "    }\n",
              "\n",
              "    .dataframe thead th {\n",
              "        text-align: right;\n",
              "    }\n",
              "</style>\n",
              "<table border=\"1\" class=\"dataframe\">\n",
              "  <thead>\n",
              "    <tr style=\"text-align: right;\">\n",
              "      <th></th>\n",
              "      <th>Y</th>\n",
              "      <th>X1</th>\n",
              "      <th>X2</th>\n",
              "      <th>X3</th>\n",
              "      <th>X4</th>\n",
              "      <th>X5</th>\n",
              "      <th>X6</th>\n",
              "      <th>X7</th>\n",
              "      <th>X8</th>\n",
              "      <th>X9</th>\n",
              "      <th>...</th>\n",
              "      <th>X15</th>\n",
              "      <th>X16</th>\n",
              "      <th>X17</th>\n",
              "      <th>X18</th>\n",
              "      <th>X19</th>\n",
              "      <th>X20</th>\n",
              "      <th>X21</th>\n",
              "      <th>X22</th>\n",
              "      <th>X23</th>\n",
              "      <th>X24</th>\n",
              "    </tr>\n",
              "  </thead>\n",
              "  <tbody>\n",
              "    <tr>\n",
              "      <th>0</th>\n",
              "      <td>2=Sometimes</td>\n",
              "      <td>38</td>\n",
              "      <td>0</td>\n",
              "      <td>0</td>\n",
              "      <td>1</td>\n",
              "      <td>5</td>\n",
              "      <td>7</td>\n",
              "      <td>0</td>\n",
              "      <td>0</td>\n",
              "      <td>1</td>\n",
              "      <td>...</td>\n",
              "      <td>0</td>\n",
              "      <td>2</td>\n",
              "      <td>0</td>\n",
              "      <td>2</td>\n",
              "      <td>3</td>\n",
              "      <td>1</td>\n",
              "      <td>0</td>\n",
              "      <td>2</td>\n",
              "      <td>1</td>\n",
              "      <td>3</td>\n",
              "    </tr>\n",
              "    <tr>\n",
              "      <th>1</th>\n",
              "      <td>2=Sometimes</td>\n",
              "      <td>40</td>\n",
              "      <td>0</td>\n",
              "      <td>0</td>\n",
              "      <td>0</td>\n",
              "      <td>5</td>\n",
              "      <td>15</td>\n",
              "      <td>3</td>\n",
              "      <td>0</td>\n",
              "      <td>2</td>\n",
              "      <td>...</td>\n",
              "      <td>0</td>\n",
              "      <td>2</td>\n",
              "      <td>0</td>\n",
              "      <td>0</td>\n",
              "      <td>5</td>\n",
              "      <td>0</td>\n",
              "      <td>0</td>\n",
              "      <td>2</td>\n",
              "      <td>0</td>\n",
              "      <td>3</td>\n",
              "    </tr>\n",
              "    <tr>\n",
              "      <th>2</th>\n",
              "      <td>4=Nearly all the time</td>\n",
              "      <td>39</td>\n",
              "      <td>1</td>\n",
              "      <td>2</td>\n",
              "      <td>2</td>\n",
              "      <td>1</td>\n",
              "      <td>13</td>\n",
              "      <td>0</td>\n",
              "      <td>0</td>\n",
              "      <td>2</td>\n",
              "      <td>...</td>\n",
              "      <td>0</td>\n",
              "      <td>2</td>\n",
              "      <td>0</td>\n",
              "      <td>2</td>\n",
              "      <td>6</td>\n",
              "      <td>1</td>\n",
              "      <td>0</td>\n",
              "      <td>0</td>\n",
              "      <td>2</td>\n",
              "      <td>3</td>\n",
              "    </tr>\n",
              "    <tr>\n",
              "      <th>3</th>\n",
              "      <td>3=Very often</td>\n",
              "      <td>59</td>\n",
              "      <td>0</td>\n",
              "      <td>0</td>\n",
              "      <td>1</td>\n",
              "      <td>4</td>\n",
              "      <td>20</td>\n",
              "      <td>0</td>\n",
              "      <td>0</td>\n",
              "      <td>1</td>\n",
              "      <td>...</td>\n",
              "      <td>0</td>\n",
              "      <td>2</td>\n",
              "      <td>0</td>\n",
              "      <td>1</td>\n",
              "      <td>6</td>\n",
              "      <td>0</td>\n",
              "      <td>0</td>\n",
              "      <td>0</td>\n",
              "      <td>1</td>\n",
              "      <td>3</td>\n",
              "    </tr>\n",
              "    <tr>\n",
              "      <th>4</th>\n",
              "      <td>3=Very often</td>\n",
              "      <td>37</td>\n",
              "      <td>0</td>\n",
              "      <td>0</td>\n",
              "      <td>4</td>\n",
              "      <td>6</td>\n",
              "      <td>19</td>\n",
              "      <td>0</td>\n",
              "      <td>0</td>\n",
              "      <td>1</td>\n",
              "      <td>...</td>\n",
              "      <td>0</td>\n",
              "      <td>2</td>\n",
              "      <td>1</td>\n",
              "      <td>2</td>\n",
              "      <td>8</td>\n",
              "      <td>0</td>\n",
              "      <td>0</td>\n",
              "      <td>0</td>\n",
              "      <td>4</td>\n",
              "      <td>3</td>\n",
              "    </tr>\n",
              "  </tbody>\n",
              "</table>\n",
              "<p>5 rows × 25 columns</p>\n",
              "</div>\n",
              "      <button class=\"colab-df-convert\" onclick=\"convertToInteractive('df-214d318b-4df2-4d52-ac2f-478d78bc2990')\"\n",
              "              title=\"Convert this dataframe to an interactive table.\"\n",
              "              style=\"display:none;\">\n",
              "        \n",
              "  <svg xmlns=\"http://www.w3.org/2000/svg\" height=\"24px\"viewBox=\"0 0 24 24\"\n",
              "       width=\"24px\">\n",
              "    <path d=\"M0 0h24v24H0V0z\" fill=\"none\"/>\n",
              "    <path d=\"M18.56 5.44l.94 2.06.94-2.06 2.06-.94-2.06-.94-.94-2.06-.94 2.06-2.06.94zm-11 1L8.5 8.5l.94-2.06 2.06-.94-2.06-.94L8.5 2.5l-.94 2.06-2.06.94zm10 10l.94 2.06.94-2.06 2.06-.94-2.06-.94-.94-2.06-.94 2.06-2.06.94z\"/><path d=\"M17.41 7.96l-1.37-1.37c-.4-.4-.92-.59-1.43-.59-.52 0-1.04.2-1.43.59L10.3 9.45l-7.72 7.72c-.78.78-.78 2.05 0 2.83L4 21.41c.39.39.9.59 1.41.59.51 0 1.02-.2 1.41-.59l7.78-7.78 2.81-2.81c.8-.78.8-2.07 0-2.86zM5.41 20L4 18.59l7.72-7.72 1.47 1.35L5.41 20z\"/>\n",
              "  </svg>\n",
              "      </button>\n",
              "      \n",
              "  <style>\n",
              "    .colab-df-container {\n",
              "      display:flex;\n",
              "      flex-wrap:wrap;\n",
              "      gap: 12px;\n",
              "    }\n",
              "\n",
              "    .colab-df-convert {\n",
              "      background-color: #E8F0FE;\n",
              "      border: none;\n",
              "      border-radius: 50%;\n",
              "      cursor: pointer;\n",
              "      display: none;\n",
              "      fill: #1967D2;\n",
              "      height: 32px;\n",
              "      padding: 0 0 0 0;\n",
              "      width: 32px;\n",
              "    }\n",
              "\n",
              "    .colab-df-convert:hover {\n",
              "      background-color: #E2EBFA;\n",
              "      box-shadow: 0px 1px 2px rgba(60, 64, 67, 0.3), 0px 1px 3px 1px rgba(60, 64, 67, 0.15);\n",
              "      fill: #174EA6;\n",
              "    }\n",
              "\n",
              "    [theme=dark] .colab-df-convert {\n",
              "      background-color: #3B4455;\n",
              "      fill: #D2E3FC;\n",
              "    }\n",
              "\n",
              "    [theme=dark] .colab-df-convert:hover {\n",
              "      background-color: #434B5C;\n",
              "      box-shadow: 0px 1px 3px 1px rgba(0, 0, 0, 0.15);\n",
              "      filter: drop-shadow(0px 1px 2px rgba(0, 0, 0, 0.3));\n",
              "      fill: #FFFFFF;\n",
              "    }\n",
              "  </style>\n",
              "\n",
              "      <script>\n",
              "        const buttonEl =\n",
              "          document.querySelector('#df-214d318b-4df2-4d52-ac2f-478d78bc2990 button.colab-df-convert');\n",
              "        buttonEl.style.display =\n",
              "          google.colab.kernel.accessAllowed ? 'block' : 'none';\n",
              "\n",
              "        async function convertToInteractive(key) {\n",
              "          const element = document.querySelector('#df-214d318b-4df2-4d52-ac2f-478d78bc2990');\n",
              "          const dataTable =\n",
              "            await google.colab.kernel.invokeFunction('convertToInteractive',\n",
              "                                                     [key], {});\n",
              "          if (!dataTable) return;\n",
              "\n",
              "          const docLinkHtml = 'Like what you see? Visit the ' +\n",
              "            '<a target=\"_blank\" href=https://colab.research.google.com/notebooks/data_table.ipynb>data table notebook</a>'\n",
              "            + ' to learn more about interactive tables.';\n",
              "          element.innerHTML = '';\n",
              "          dataTable['output_type'] = 'display_data';\n",
              "          await google.colab.output.renderOutput(dataTable, element);\n",
              "          const docLink = document.createElement('div');\n",
              "          docLink.innerHTML = docLinkHtml;\n",
              "          element.appendChild(docLink);\n",
              "        }\n",
              "      </script>\n",
              "    </div>\n",
              "  </div>\n",
              "  "
            ]
          },
          "metadata": {},
          "execution_count": 11
        }
      ],
      "source": [
        "dataset.head()"
      ]
    },
    {
      "cell_type": "code",
      "execution_count": 12,
      "metadata": {
        "id": "4azY1FZVCJEU"
      },
      "outputs": [],
      "source": [
        "dataset['Y']=dataset['Y'].replace([\"0=Never\", \"1=Rarely\",'2=Sometimes'],0)\n",
        "dataset['Y']=dataset['Y'].replace([ '3=Very often', '4=Nearly all the time'],1)"
      ]
    },
    {
      "cell_type": "code",
      "execution_count": 13,
      "metadata": {
        "colab": {
          "base_uri": "https://localhost:8080/",
          "height": 235
        },
        "id": "AWFGp9dkCzuQ",
        "outputId": "26fa706f-c6e5-4eae-dde4-3b8d9ce1c19a"
      },
      "outputs": [
        {
          "output_type": "execute_result",
          "data": {
            "text/plain": [
              "   Y  X1  X2  X3  X4  X5  X6  X7  X8  X9  ...  X15  X16  X17  X18  X19  X20  \\\n",
              "0  0  38   0   0   1   5   7   0   0   1  ...    0    2    0    2    3    1   \n",
              "1  0  40   0   0   0   5  15   3   0   2  ...    0    2    0    0    5    0   \n",
              "2  1  39   1   2   2   1  13   0   0   2  ...    0    2    0    2    6    1   \n",
              "3  1  59   0   0   1   4  20   0   0   1  ...    0    2    0    1    6    0   \n",
              "4  1  37   0   0   4   6  19   0   0   1  ...    0    2    1    2    8    0   \n",
              "\n",
              "   X21  X22  X23  X24  \n",
              "0    0    2    1    3  \n",
              "1    0    2    0    3  \n",
              "2    0    0    2    3  \n",
              "3    0    0    1    3  \n",
              "4    0    0    4    3  \n",
              "\n",
              "[5 rows x 25 columns]"
            ],
            "text/html": [
              "\n",
              "  <div id=\"df-db39039e-ae0c-4bea-942d-26aa3ae1ef7a\">\n",
              "    <div class=\"colab-df-container\">\n",
              "      <div>\n",
              "<style scoped>\n",
              "    .dataframe tbody tr th:only-of-type {\n",
              "        vertical-align: middle;\n",
              "    }\n",
              "\n",
              "    .dataframe tbody tr th {\n",
              "        vertical-align: top;\n",
              "    }\n",
              "\n",
              "    .dataframe thead th {\n",
              "        text-align: right;\n",
              "    }\n",
              "</style>\n",
              "<table border=\"1\" class=\"dataframe\">\n",
              "  <thead>\n",
              "    <tr style=\"text-align: right;\">\n",
              "      <th></th>\n",
              "      <th>Y</th>\n",
              "      <th>X1</th>\n",
              "      <th>X2</th>\n",
              "      <th>X3</th>\n",
              "      <th>X4</th>\n",
              "      <th>X5</th>\n",
              "      <th>X6</th>\n",
              "      <th>X7</th>\n",
              "      <th>X8</th>\n",
              "      <th>X9</th>\n",
              "      <th>...</th>\n",
              "      <th>X15</th>\n",
              "      <th>X16</th>\n",
              "      <th>X17</th>\n",
              "      <th>X18</th>\n",
              "      <th>X19</th>\n",
              "      <th>X20</th>\n",
              "      <th>X21</th>\n",
              "      <th>X22</th>\n",
              "      <th>X23</th>\n",
              "      <th>X24</th>\n",
              "    </tr>\n",
              "  </thead>\n",
              "  <tbody>\n",
              "    <tr>\n",
              "      <th>0</th>\n",
              "      <td>0</td>\n",
              "      <td>38</td>\n",
              "      <td>0</td>\n",
              "      <td>0</td>\n",
              "      <td>1</td>\n",
              "      <td>5</td>\n",
              "      <td>7</td>\n",
              "      <td>0</td>\n",
              "      <td>0</td>\n",
              "      <td>1</td>\n",
              "      <td>...</td>\n",
              "      <td>0</td>\n",
              "      <td>2</td>\n",
              "      <td>0</td>\n",
              "      <td>2</td>\n",
              "      <td>3</td>\n",
              "      <td>1</td>\n",
              "      <td>0</td>\n",
              "      <td>2</td>\n",
              "      <td>1</td>\n",
              "      <td>3</td>\n",
              "    </tr>\n",
              "    <tr>\n",
              "      <th>1</th>\n",
              "      <td>0</td>\n",
              "      <td>40</td>\n",
              "      <td>0</td>\n",
              "      <td>0</td>\n",
              "      <td>0</td>\n",
              "      <td>5</td>\n",
              "      <td>15</td>\n",
              "      <td>3</td>\n",
              "      <td>0</td>\n",
              "      <td>2</td>\n",
              "      <td>...</td>\n",
              "      <td>0</td>\n",
              "      <td>2</td>\n",
              "      <td>0</td>\n",
              "      <td>0</td>\n",
              "      <td>5</td>\n",
              "      <td>0</td>\n",
              "      <td>0</td>\n",
              "      <td>2</td>\n",
              "      <td>0</td>\n",
              "      <td>3</td>\n",
              "    </tr>\n",
              "    <tr>\n",
              "      <th>2</th>\n",
              "      <td>1</td>\n",
              "      <td>39</td>\n",
              "      <td>1</td>\n",
              "      <td>2</td>\n",
              "      <td>2</td>\n",
              "      <td>1</td>\n",
              "      <td>13</td>\n",
              "      <td>0</td>\n",
              "      <td>0</td>\n",
              "      <td>2</td>\n",
              "      <td>...</td>\n",
              "      <td>0</td>\n",
              "      <td>2</td>\n",
              "      <td>0</td>\n",
              "      <td>2</td>\n",
              "      <td>6</td>\n",
              "      <td>1</td>\n",
              "      <td>0</td>\n",
              "      <td>0</td>\n",
              "      <td>2</td>\n",
              "      <td>3</td>\n",
              "    </tr>\n",
              "    <tr>\n",
              "      <th>3</th>\n",
              "      <td>1</td>\n",
              "      <td>59</td>\n",
              "      <td>0</td>\n",
              "      <td>0</td>\n",
              "      <td>1</td>\n",
              "      <td>4</td>\n",
              "      <td>20</td>\n",
              "      <td>0</td>\n",
              "      <td>0</td>\n",
              "      <td>1</td>\n",
              "      <td>...</td>\n",
              "      <td>0</td>\n",
              "      <td>2</td>\n",
              "      <td>0</td>\n",
              "      <td>1</td>\n",
              "      <td>6</td>\n",
              "      <td>0</td>\n",
              "      <td>0</td>\n",
              "      <td>0</td>\n",
              "      <td>1</td>\n",
              "      <td>3</td>\n",
              "    </tr>\n",
              "    <tr>\n",
              "      <th>4</th>\n",
              "      <td>1</td>\n",
              "      <td>37</td>\n",
              "      <td>0</td>\n",
              "      <td>0</td>\n",
              "      <td>4</td>\n",
              "      <td>6</td>\n",
              "      <td>19</td>\n",
              "      <td>0</td>\n",
              "      <td>0</td>\n",
              "      <td>1</td>\n",
              "      <td>...</td>\n",
              "      <td>0</td>\n",
              "      <td>2</td>\n",
              "      <td>1</td>\n",
              "      <td>2</td>\n",
              "      <td>8</td>\n",
              "      <td>0</td>\n",
              "      <td>0</td>\n",
              "      <td>0</td>\n",
              "      <td>4</td>\n",
              "      <td>3</td>\n",
              "    </tr>\n",
              "  </tbody>\n",
              "</table>\n",
              "<p>5 rows × 25 columns</p>\n",
              "</div>\n",
              "      <button class=\"colab-df-convert\" onclick=\"convertToInteractive('df-db39039e-ae0c-4bea-942d-26aa3ae1ef7a')\"\n",
              "              title=\"Convert this dataframe to an interactive table.\"\n",
              "              style=\"display:none;\">\n",
              "        \n",
              "  <svg xmlns=\"http://www.w3.org/2000/svg\" height=\"24px\"viewBox=\"0 0 24 24\"\n",
              "       width=\"24px\">\n",
              "    <path d=\"M0 0h24v24H0V0z\" fill=\"none\"/>\n",
              "    <path d=\"M18.56 5.44l.94 2.06.94-2.06 2.06-.94-2.06-.94-.94-2.06-.94 2.06-2.06.94zm-11 1L8.5 8.5l.94-2.06 2.06-.94-2.06-.94L8.5 2.5l-.94 2.06-2.06.94zm10 10l.94 2.06.94-2.06 2.06-.94-2.06-.94-.94-2.06-.94 2.06-2.06.94z\"/><path d=\"M17.41 7.96l-1.37-1.37c-.4-.4-.92-.59-1.43-.59-.52 0-1.04.2-1.43.59L10.3 9.45l-7.72 7.72c-.78.78-.78 2.05 0 2.83L4 21.41c.39.39.9.59 1.41.59.51 0 1.02-.2 1.41-.59l7.78-7.78 2.81-2.81c.8-.78.8-2.07 0-2.86zM5.41 20L4 18.59l7.72-7.72 1.47 1.35L5.41 20z\"/>\n",
              "  </svg>\n",
              "      </button>\n",
              "      \n",
              "  <style>\n",
              "    .colab-df-container {\n",
              "      display:flex;\n",
              "      flex-wrap:wrap;\n",
              "      gap: 12px;\n",
              "    }\n",
              "\n",
              "    .colab-df-convert {\n",
              "      background-color: #E8F0FE;\n",
              "      border: none;\n",
              "      border-radius: 50%;\n",
              "      cursor: pointer;\n",
              "      display: none;\n",
              "      fill: #1967D2;\n",
              "      height: 32px;\n",
              "      padding: 0 0 0 0;\n",
              "      width: 32px;\n",
              "    }\n",
              "\n",
              "    .colab-df-convert:hover {\n",
              "      background-color: #E2EBFA;\n",
              "      box-shadow: 0px 1px 2px rgba(60, 64, 67, 0.3), 0px 1px 3px 1px rgba(60, 64, 67, 0.15);\n",
              "      fill: #174EA6;\n",
              "    }\n",
              "\n",
              "    [theme=dark] .colab-df-convert {\n",
              "      background-color: #3B4455;\n",
              "      fill: #D2E3FC;\n",
              "    }\n",
              "\n",
              "    [theme=dark] .colab-df-convert:hover {\n",
              "      background-color: #434B5C;\n",
              "      box-shadow: 0px 1px 3px 1px rgba(0, 0, 0, 0.15);\n",
              "      filter: drop-shadow(0px 1px 2px rgba(0, 0, 0, 0.3));\n",
              "      fill: #FFFFFF;\n",
              "    }\n",
              "  </style>\n",
              "\n",
              "      <script>\n",
              "        const buttonEl =\n",
              "          document.querySelector('#df-db39039e-ae0c-4bea-942d-26aa3ae1ef7a button.colab-df-convert');\n",
              "        buttonEl.style.display =\n",
              "          google.colab.kernel.accessAllowed ? 'block' : 'none';\n",
              "\n",
              "        async function convertToInteractive(key) {\n",
              "          const element = document.querySelector('#df-db39039e-ae0c-4bea-942d-26aa3ae1ef7a');\n",
              "          const dataTable =\n",
              "            await google.colab.kernel.invokeFunction('convertToInteractive',\n",
              "                                                     [key], {});\n",
              "          if (!dataTable) return;\n",
              "\n",
              "          const docLinkHtml = 'Like what you see? Visit the ' +\n",
              "            '<a target=\"_blank\" href=https://colab.research.google.com/notebooks/data_table.ipynb>data table notebook</a>'\n",
              "            + ' to learn more about interactive tables.';\n",
              "          element.innerHTML = '';\n",
              "          dataTable['output_type'] = 'display_data';\n",
              "          await google.colab.output.renderOutput(dataTable, element);\n",
              "          const docLink = document.createElement('div');\n",
              "          docLink.innerHTML = docLinkHtml;\n",
              "          element.appendChild(docLink);\n",
              "        }\n",
              "      </script>\n",
              "    </div>\n",
              "  </div>\n",
              "  "
            ]
          },
          "metadata": {},
          "execution_count": 13
        }
      ],
      "source": [
        "dataset.head()"
      ]
    },
    {
      "cell_type": "code",
      "execution_count": 14,
      "metadata": {
        "id": "np5T1cMPrpCF"
      },
      "outputs": [],
      "source": [
        "#dataset['Y'] = dataset['Y'].astype(str).str[:1].astype(int)"
      ]
    },
    {
      "cell_type": "code",
      "execution_count": 15,
      "metadata": {
        "colab": {
          "base_uri": "https://localhost:8080/",
          "height": 235
        },
        "id": "HDe54V_DrzyK",
        "outputId": "7b66b196-b1bc-4132-e355-2746484661d6"
      },
      "outputs": [
        {
          "output_type": "execute_result",
          "data": {
            "text/plain": [
              "   Y  X1  X2  X3  X4  X5  X6  X7  X8  X9  ...  X15  X16  X17  X18  X19  X20  \\\n",
              "0  0  38   0   0   1   5   7   0   0   1  ...    0    2    0    2    3    1   \n",
              "1  0  40   0   0   0   5  15   3   0   2  ...    0    2    0    0    5    0   \n",
              "2  1  39   1   2   2   1  13   0   0   2  ...    0    2    0    2    6    1   \n",
              "3  1  59   0   0   1   4  20   0   0   1  ...    0    2    0    1    6    0   \n",
              "4  1  37   0   0   4   6  19   0   0   1  ...    0    2    1    2    8    0   \n",
              "\n",
              "   X21  X22  X23  X24  \n",
              "0    0    2    1    3  \n",
              "1    0    2    0    3  \n",
              "2    0    0    2    3  \n",
              "3    0    0    1    3  \n",
              "4    0    0    4    3  \n",
              "\n",
              "[5 rows x 25 columns]"
            ],
            "text/html": [
              "\n",
              "  <div id=\"df-ecca8644-1578-473a-8b58-920017b4cd5a\">\n",
              "    <div class=\"colab-df-container\">\n",
              "      <div>\n",
              "<style scoped>\n",
              "    .dataframe tbody tr th:only-of-type {\n",
              "        vertical-align: middle;\n",
              "    }\n",
              "\n",
              "    .dataframe tbody tr th {\n",
              "        vertical-align: top;\n",
              "    }\n",
              "\n",
              "    .dataframe thead th {\n",
              "        text-align: right;\n",
              "    }\n",
              "</style>\n",
              "<table border=\"1\" class=\"dataframe\">\n",
              "  <thead>\n",
              "    <tr style=\"text-align: right;\">\n",
              "      <th></th>\n",
              "      <th>Y</th>\n",
              "      <th>X1</th>\n",
              "      <th>X2</th>\n",
              "      <th>X3</th>\n",
              "      <th>X4</th>\n",
              "      <th>X5</th>\n",
              "      <th>X6</th>\n",
              "      <th>X7</th>\n",
              "      <th>X8</th>\n",
              "      <th>X9</th>\n",
              "      <th>...</th>\n",
              "      <th>X15</th>\n",
              "      <th>X16</th>\n",
              "      <th>X17</th>\n",
              "      <th>X18</th>\n",
              "      <th>X19</th>\n",
              "      <th>X20</th>\n",
              "      <th>X21</th>\n",
              "      <th>X22</th>\n",
              "      <th>X23</th>\n",
              "      <th>X24</th>\n",
              "    </tr>\n",
              "  </thead>\n",
              "  <tbody>\n",
              "    <tr>\n",
              "      <th>0</th>\n",
              "      <td>0</td>\n",
              "      <td>38</td>\n",
              "      <td>0</td>\n",
              "      <td>0</td>\n",
              "      <td>1</td>\n",
              "      <td>5</td>\n",
              "      <td>7</td>\n",
              "      <td>0</td>\n",
              "      <td>0</td>\n",
              "      <td>1</td>\n",
              "      <td>...</td>\n",
              "      <td>0</td>\n",
              "      <td>2</td>\n",
              "      <td>0</td>\n",
              "      <td>2</td>\n",
              "      <td>3</td>\n",
              "      <td>1</td>\n",
              "      <td>0</td>\n",
              "      <td>2</td>\n",
              "      <td>1</td>\n",
              "      <td>3</td>\n",
              "    </tr>\n",
              "    <tr>\n",
              "      <th>1</th>\n",
              "      <td>0</td>\n",
              "      <td>40</td>\n",
              "      <td>0</td>\n",
              "      <td>0</td>\n",
              "      <td>0</td>\n",
              "      <td>5</td>\n",
              "      <td>15</td>\n",
              "      <td>3</td>\n",
              "      <td>0</td>\n",
              "      <td>2</td>\n",
              "      <td>...</td>\n",
              "      <td>0</td>\n",
              "      <td>2</td>\n",
              "      <td>0</td>\n",
              "      <td>0</td>\n",
              "      <td>5</td>\n",
              "      <td>0</td>\n",
              "      <td>0</td>\n",
              "      <td>2</td>\n",
              "      <td>0</td>\n",
              "      <td>3</td>\n",
              "    </tr>\n",
              "    <tr>\n",
              "      <th>2</th>\n",
              "      <td>1</td>\n",
              "      <td>39</td>\n",
              "      <td>1</td>\n",
              "      <td>2</td>\n",
              "      <td>2</td>\n",
              "      <td>1</td>\n",
              "      <td>13</td>\n",
              "      <td>0</td>\n",
              "      <td>0</td>\n",
              "      <td>2</td>\n",
              "      <td>...</td>\n",
              "      <td>0</td>\n",
              "      <td>2</td>\n",
              "      <td>0</td>\n",
              "      <td>2</td>\n",
              "      <td>6</td>\n",
              "      <td>1</td>\n",
              "      <td>0</td>\n",
              "      <td>0</td>\n",
              "      <td>2</td>\n",
              "      <td>3</td>\n",
              "    </tr>\n",
              "    <tr>\n",
              "      <th>3</th>\n",
              "      <td>1</td>\n",
              "      <td>59</td>\n",
              "      <td>0</td>\n",
              "      <td>0</td>\n",
              "      <td>1</td>\n",
              "      <td>4</td>\n",
              "      <td>20</td>\n",
              "      <td>0</td>\n",
              "      <td>0</td>\n",
              "      <td>1</td>\n",
              "      <td>...</td>\n",
              "      <td>0</td>\n",
              "      <td>2</td>\n",
              "      <td>0</td>\n",
              "      <td>1</td>\n",
              "      <td>6</td>\n",
              "      <td>0</td>\n",
              "      <td>0</td>\n",
              "      <td>0</td>\n",
              "      <td>1</td>\n",
              "      <td>3</td>\n",
              "    </tr>\n",
              "    <tr>\n",
              "      <th>4</th>\n",
              "      <td>1</td>\n",
              "      <td>37</td>\n",
              "      <td>0</td>\n",
              "      <td>0</td>\n",
              "      <td>4</td>\n",
              "      <td>6</td>\n",
              "      <td>19</td>\n",
              "      <td>0</td>\n",
              "      <td>0</td>\n",
              "      <td>1</td>\n",
              "      <td>...</td>\n",
              "      <td>0</td>\n",
              "      <td>2</td>\n",
              "      <td>1</td>\n",
              "      <td>2</td>\n",
              "      <td>8</td>\n",
              "      <td>0</td>\n",
              "      <td>0</td>\n",
              "      <td>0</td>\n",
              "      <td>4</td>\n",
              "      <td>3</td>\n",
              "    </tr>\n",
              "  </tbody>\n",
              "</table>\n",
              "<p>5 rows × 25 columns</p>\n",
              "</div>\n",
              "      <button class=\"colab-df-convert\" onclick=\"convertToInteractive('df-ecca8644-1578-473a-8b58-920017b4cd5a')\"\n",
              "              title=\"Convert this dataframe to an interactive table.\"\n",
              "              style=\"display:none;\">\n",
              "        \n",
              "  <svg xmlns=\"http://www.w3.org/2000/svg\" height=\"24px\"viewBox=\"0 0 24 24\"\n",
              "       width=\"24px\">\n",
              "    <path d=\"M0 0h24v24H0V0z\" fill=\"none\"/>\n",
              "    <path d=\"M18.56 5.44l.94 2.06.94-2.06 2.06-.94-2.06-.94-.94-2.06-.94 2.06-2.06.94zm-11 1L8.5 8.5l.94-2.06 2.06-.94-2.06-.94L8.5 2.5l-.94 2.06-2.06.94zm10 10l.94 2.06.94-2.06 2.06-.94-2.06-.94-.94-2.06-.94 2.06-2.06.94z\"/><path d=\"M17.41 7.96l-1.37-1.37c-.4-.4-.92-.59-1.43-.59-.52 0-1.04.2-1.43.59L10.3 9.45l-7.72 7.72c-.78.78-.78 2.05 0 2.83L4 21.41c.39.39.9.59 1.41.59.51 0 1.02-.2 1.41-.59l7.78-7.78 2.81-2.81c.8-.78.8-2.07 0-2.86zM5.41 20L4 18.59l7.72-7.72 1.47 1.35L5.41 20z\"/>\n",
              "  </svg>\n",
              "      </button>\n",
              "      \n",
              "  <style>\n",
              "    .colab-df-container {\n",
              "      display:flex;\n",
              "      flex-wrap:wrap;\n",
              "      gap: 12px;\n",
              "    }\n",
              "\n",
              "    .colab-df-convert {\n",
              "      background-color: #E8F0FE;\n",
              "      border: none;\n",
              "      border-radius: 50%;\n",
              "      cursor: pointer;\n",
              "      display: none;\n",
              "      fill: #1967D2;\n",
              "      height: 32px;\n",
              "      padding: 0 0 0 0;\n",
              "      width: 32px;\n",
              "    }\n",
              "\n",
              "    .colab-df-convert:hover {\n",
              "      background-color: #E2EBFA;\n",
              "      box-shadow: 0px 1px 2px rgba(60, 64, 67, 0.3), 0px 1px 3px 1px rgba(60, 64, 67, 0.15);\n",
              "      fill: #174EA6;\n",
              "    }\n",
              "\n",
              "    [theme=dark] .colab-df-convert {\n",
              "      background-color: #3B4455;\n",
              "      fill: #D2E3FC;\n",
              "    }\n",
              "\n",
              "    [theme=dark] .colab-df-convert:hover {\n",
              "      background-color: #434B5C;\n",
              "      box-shadow: 0px 1px 3px 1px rgba(0, 0, 0, 0.15);\n",
              "      filter: drop-shadow(0px 1px 2px rgba(0, 0, 0, 0.3));\n",
              "      fill: #FFFFFF;\n",
              "    }\n",
              "  </style>\n",
              "\n",
              "      <script>\n",
              "        const buttonEl =\n",
              "          document.querySelector('#df-ecca8644-1578-473a-8b58-920017b4cd5a button.colab-df-convert');\n",
              "        buttonEl.style.display =\n",
              "          google.colab.kernel.accessAllowed ? 'block' : 'none';\n",
              "\n",
              "        async function convertToInteractive(key) {\n",
              "          const element = document.querySelector('#df-ecca8644-1578-473a-8b58-920017b4cd5a');\n",
              "          const dataTable =\n",
              "            await google.colab.kernel.invokeFunction('convertToInteractive',\n",
              "                                                     [key], {});\n",
              "          if (!dataTable) return;\n",
              "\n",
              "          const docLinkHtml = 'Like what you see? Visit the ' +\n",
              "            '<a target=\"_blank\" href=https://colab.research.google.com/notebooks/data_table.ipynb>data table notebook</a>'\n",
              "            + ' to learn more about interactive tables.';\n",
              "          element.innerHTML = '';\n",
              "          dataTable['output_type'] = 'display_data';\n",
              "          await google.colab.output.renderOutput(dataTable, element);\n",
              "          const docLink = document.createElement('div');\n",
              "          docLink.innerHTML = docLinkHtml;\n",
              "          element.appendChild(docLink);\n",
              "        }\n",
              "      </script>\n",
              "    </div>\n",
              "  </div>\n",
              "  "
            ]
          },
          "metadata": {},
          "execution_count": 15
        }
      ],
      "source": [
        "dataset.head()"
      ]
    },
    {
      "cell_type": "code",
      "execution_count": 16,
      "metadata": {
        "colab": {
          "base_uri": "https://localhost:8080/"
        },
        "id": "oE219CvCr4AX",
        "outputId": "aa9d69b1-2000-4a14-d83f-bcc942f4aadd"
      },
      "outputs": [
        {
          "output_type": "execute_result",
          "data": {
            "text/plain": [
              "Y      int64\n",
              "X1     int64\n",
              "X2     int64\n",
              "X3     int64\n",
              "X4     int64\n",
              "X5     int64\n",
              "X6     int64\n",
              "X7     int64\n",
              "X8     int64\n",
              "X9     int64\n",
              "X10    int64\n",
              "X11    int64\n",
              "X12    int64\n",
              "X13    int64\n",
              "X14    int64\n",
              "X15    int64\n",
              "X16    int64\n",
              "X17    int64\n",
              "X18    int64\n",
              "X19    int64\n",
              "X20    int64\n",
              "X21    int64\n",
              "X22    int64\n",
              "X23    int64\n",
              "X24    int64\n",
              "dtype: object"
            ]
          },
          "metadata": {},
          "execution_count": 16
        }
      ],
      "source": [
        "dataset.dtypes"
      ]
    },
    {
      "cell_type": "markdown",
      "metadata": {
        "id": "XNn2RnST6_Q-"
      },
      "source": [
        "## Splitting the dataset into the Training set and Test set"
      ]
    },
    {
      "cell_type": "code",
      "execution_count": 17,
      "metadata": {
        "id": "z0dw82YOsb6c"
      },
      "outputs": [],
      "source": [
        "x= dataset.iloc[:, 1:].values  \n",
        "y= dataset.iloc[:, 0].values  "
      ]
    },
    {
      "cell_type": "code",
      "execution_count": 18,
      "metadata": {
        "id": "ajhBL-er7Gry"
      },
      "outputs": [],
      "source": [
        "from sklearn.model_selection import train_test_split\n",
        "X_train, X_test, y_train, y_test = train_test_split(x, y, test_size = 0.3, random_state = 0)\n",
        "\n",
        "# define the datasets to evaluate each iteration\n",
        "evalset = [(X_train, y_train), (X_test,y_test)]"
      ]
    },
    {
      "cell_type": "markdown",
      "metadata": {
        "id": "1Y89ctGZ7Mcx"
      },
      "source": [
        "## Training XGBoost on the Training set"
      ]
    },
    {
      "cell_type": "code",
      "execution_count": 19,
      "metadata": {
        "colab": {
          "base_uri": "https://localhost:8080/"
        },
        "id": "ude1J0E47SKN",
        "outputId": "e057ab86-8a30-4cf9-d38e-30a2c2583c91"
      },
      "outputs": [
        {
          "output_type": "execute_result",
          "data": {
            "text/plain": [
              "XGBClassifier()"
            ]
          },
          "metadata": {},
          "execution_count": 19
        }
      ],
      "source": [
        "from xgboost import XGBClassifier\n",
        "model = XGBClassifier()\n",
        "model.fit(X_train, y_train)\n",
        "\n",
        "# fit the model\n",
        "model.fit(X_train, y_train)"
      ]
    },
    {
      "cell_type": "code",
      "source": [
        "#  K-FOLD\n",
        "\n",
        "from sklearn.model_selection import cross_val_score\n",
        "from sklearn.model_selection import KFold\n",
        "accuracies = cross_val_score(estimator = model, X = X_train, y = y_train, cv = 10)\n",
        "print(\"Accuracy: {:.2f} %\".format(accuracies.mean()*100))\n",
        "print(\"Standard Deviation: {:.2f} %\".format(accuracies.std()*100))\n"
      ],
      "metadata": {
        "colab": {
          "base_uri": "https://localhost:8080/"
        },
        "id": "3ccd4-0KOpZd",
        "outputId": "05225a15-cc16-41f0-f3b2-4c28d2986eac"
      },
      "execution_count": 20,
      "outputs": [
        {
          "output_type": "stream",
          "name": "stdout",
          "text": [
            "Accuracy: 52.86 %\n",
            "Standard Deviation: 18.13 %\n"
          ]
        }
      ]
    },
    {
      "cell_type": "code",
      "source": [
        "\n",
        "# evaluate performance\n",
        "#yhat = model.predict(X_test)\n",
        "#score = accuracy_score(y_test, yhat)\n",
        "#print('Accuracy: %.3f' % score)"
      ],
      "metadata": {
        "id": "pYeBR2P-0dT0"
      },
      "execution_count": 21,
      "outputs": []
    },
    {
      "cell_type": "markdown",
      "metadata": {
        "id": "ivqmubzW7dFJ"
      },
      "source": [
        "## Making the Confusion Matrix"
      ]
    },
    {
      "cell_type": "code",
      "execution_count": 22,
      "metadata": {
        "colab": {
          "base_uri": "https://localhost:8080/"
        },
        "id": "SUSZ3zm_7gRD",
        "outputId": "07bbf2c8-0686-4afc-8d7e-b484734a92ab"
      },
      "outputs": [
        {
          "output_type": "stream",
          "name": "stdout",
          "text": [
            "[[ 6  9]\n",
            " [ 5 10]]\n",
            "Accuracy: 0.533\n"
          ]
        }
      ],
      "source": [
        "from sklearn.metrics import confusion_matrix, precision_score, recall_score, f1_score, accuracy_score\n",
        "\n",
        "y_pred = model.predict(X_test)\n",
        "cm = confusion_matrix(y_test, y_pred)\n",
        "print(cm)\n",
        "accuracy_score(y_test, y_pred)\n",
        "print('Accuracy: %.3f' % accuracy_score(y_test, y_pred))\t"
      ]
    },
    {
      "cell_type": "markdown",
      "source": [
        "### Hyp tuning parameters"
      ],
      "metadata": {
        "id": "UJFjVceSIeBx"
      }
    },
    {
      "cell_type": "code",
      "source": [
        "#hyperpara default values\n",
        "\n",
        "model = XGBClassifier(max_depth=6, \n",
        "                      subsample=1, colsample_bylevel=1, colsample_bytree=1, \n",
        "                      min_child_weight=1, reg_lambda=1, reg_alpha=0,\n",
        "                      n_estimators=100, learning_rate=0.3 )\n",
        "model.fit (X_train , y_train)\n",
        "y_predict = model.predict(X_test)\n",
        "y_train_predict = model.predict (X_train)\n",
        "from sklearn.metrics import accuracy_score\n",
        "print (' Train accuracy' ,accuracy_score (y_train, y_train_predict) )\n",
        "print ('Test accuraCy',accuracy_score(y_test ,y_predict) )"
      ],
      "metadata": {
        "colab": {
          "base_uri": "https://localhost:8080/"
        },
        "id": "0FyXrJU6OlKd",
        "outputId": "268fc934-a351-4e4e-e571-bcd8011499f2"
      },
      "execution_count": 23,
      "outputs": [
        {
          "output_type": "stream",
          "name": "stdout",
          "text": [
            " Train accuracy 1.0\n",
            "Test accuraCy 0.6333333333333333\n"
          ]
        }
      ]
    },
    {
      "cell_type": "code",
      "source": [
        "from sklearn.metrics import classification_report\n",
        "print(classification_report(y_test,y_predict))"
      ],
      "metadata": {
        "colab": {
          "base_uri": "https://localhost:8080/"
        },
        "id": "CwmTqdte6qQp",
        "outputId": "15aba9ae-db87-4d61-e686-30c5d8203716"
      },
      "execution_count": 24,
      "outputs": [
        {
          "output_type": "stream",
          "name": "stdout",
          "text": [
            "              precision    recall  f1-score   support\n",
            "\n",
            "           0       0.67      0.53      0.59        15\n",
            "           1       0.61      0.73      0.67        15\n",
            "\n",
            "    accuracy                           0.63        30\n",
            "   macro avg       0.64      0.63      0.63        30\n",
            "weighted avg       0.64      0.63      0.63        30\n",
            "\n"
          ]
        }
      ]
    },
    {
      "cell_type": "code",
      "source": [
        "accuracy_score(y_test, y_pred)\n",
        "print('Accuracy: %.3f' % accuracy_score(y_test, y_predict))\t\n",
        "print('Precision: %.3f' % precision_score(y_test, y_predict))\n",
        "print('Recall: %.3f' % recall_score(y_test, y_predict))\n",
        "print('F1 Score: %.3f' % f1_score(y_test, y_predict))"
      ],
      "metadata": {
        "colab": {
          "base_uri": "https://localhost:8080/"
        },
        "id": "UEWToOmm9RL9",
        "outputId": "eee8f155-3bee-4d74-f184-1a1b91bc6d8f"
      },
      "execution_count": 25,
      "outputs": [
        {
          "output_type": "stream",
          "name": "stdout",
          "text": [
            "Accuracy: 0.633\n",
            "Precision: 0.611\n",
            "Recall: 0.733\n",
            "F1 Score: 0.667\n"
          ]
        }
      ]
    },
    {
      "cell_type": "code",
      "source": [
        "from sklearn.metrics import roc_curve\n",
        "\n",
        "# roc curve for models\n",
        "fpr1, tpr1, thresh1 = roc_curve(y_test, y_predict, pos_label=1)\n",
        "# fpr2, tpr2, thresh2 = roc_curve(y_test, pred_prob2[:,1], pos_label=1)\n",
        "\n",
        "# roc curve for tpr = fpr \n",
        "random_probs = [0 for i in range(len(y_test))]\n",
        "p_fpr, p_tpr, _ = roc_curve(y_test, random_probs, pos_label=1)\n",
        "\n",
        "from sklearn.metrics import roc_auc_score\n",
        "\n",
        "# auc scores\n",
        "auc_score1 = roc_auc_score(y_test, y_predict)\n",
        "# auc_score2 = roc_auc_score(y_test, pred_prob2[:,1])\n",
        "\n",
        "#print(auc_score1)\n",
        "\n",
        "import matplotlib.pyplot as plt\n",
        "plt.style.use('seaborn')\n",
        "\n",
        "# plot roc curves\n",
        "plt.plot(fpr1, tpr1, linestyle='--',color='orange', label='SVM')\n",
        "# plt.plot(fpr2, tpr2, linestyle='--',color='green', label='KNN')\n",
        "plt.plot(p_fpr, p_tpr, linestyle='--', color='blue')\n",
        "# title\n",
        "plt.title('ROC curve')\n",
        "# x label\n",
        "plt.xlabel('False Positive Rate')\n",
        "# y label\n",
        "plt.ylabel('True Positive rate')\n",
        "\n",
        "plt.legend(loc='best')\n",
        "plt.savefig('ROC',dpi=300)\n",
        "plt.show();"
      ],
      "metadata": {
        "colab": {
          "base_uri": "https://localhost:8080/",
          "height": 376
        },
        "id": "S0_r3OHx82vH",
        "outputId": "7b3be826-a6b8-4724-a2ee-9d53ee68e69a"
      },
      "execution_count": 26,
      "outputs": [
        {
          "output_type": "display_data",
          "data": {
            "text/plain": [
              "<Figure size 576x396 with 1 Axes>"
            ],
            "image/png": "[encoded data removed]"
          },
          "metadata": {}
        }
      ]
    },
    {
      "cell_type": "code",
      "source": [
        "#hyperpara tuned values\n",
        "\n",
        "model = XGBClassifier(max_depth=4, subsample=1,\n",
        "                      n_estimators=150,learning_rate=0.1,  min_child_weight=2,\n",
        "                      random_state=5)\n",
        "model.fit (X_train , y_train)\n",
        "y_predict = model.predict(X_test)\n",
        "y_train_predict = model.predict (X_train)\n",
        "from sklearn.metrics import accuracy_score\n",
        "print (' Train accuracy' ,accuracy_score (y_train, y_train_predict) )\n",
        "print ('Test accuraCy',accuracy_score(y_test ,y_predict) )"
      ],
      "metadata": {
        "colab": {
          "base_uri": "https://localhost:8080/"
        },
        "id": "nBUhxipZVgAv",
        "outputId": "86c22405-21eb-4a90-9fef-2a1a0a27a4f8"
      },
      "execution_count": 27,
      "outputs": [
        {
          "output_type": "stream",
          "name": "stdout",
          "text": [
            " Train accuracy 1.0\n",
            "Test accuraCy 0.6666666666666666\n"
          ]
        }
      ]
    },
    {
      "cell_type": "code",
      "source": [
        "from sklearn.metrics import classification_report\n",
        "print(classification_report(y_test,y_predict))"
      ],
      "metadata": {
        "colab": {
          "base_uri": "https://localhost:8080/"
        },
        "id": "amHmddla7HG0",
        "outputId": "76b9391c-22b3-4404-95f0-7332d3da6697"
      },
      "execution_count": 28,
      "outputs": [
        {
          "output_type": "stream",
          "name": "stdout",
          "text": [
            "              precision    recall  f1-score   support\n",
            "\n",
            "           0       0.73      0.53      0.62        15\n",
            "           1       0.63      0.80      0.71        15\n",
            "\n",
            "    accuracy                           0.67        30\n",
            "   macro avg       0.68      0.67      0.66        30\n",
            "weighted avg       0.68      0.67      0.66        30\n",
            "\n"
          ]
        }
      ]
    },
    {
      "cell_type": "code",
      "source": [
        "accuracy_score(y_test, y_pred)\n",
        "print('Accuracy: %.3f' % accuracy_score(y_test, y_predict))\t\n",
        "print('Precision: %.3f' % precision_score(y_test, y_predict))\n",
        "print('Recall: %.3f' % recall_score(y_test, y_predict))\n",
        "print('F1 Score: %.3f' % f1_score(y_test, y_predict))"
      ],
      "metadata": {
        "colab": {
          "base_uri": "https://localhost:8080/"
        },
        "id": "NQNZPdS49Zgx",
        "outputId": "0b48d223-5ac4-4764-eb66-208120fda36d"
      },
      "execution_count": 29,
      "outputs": [
        {
          "output_type": "stream",
          "name": "stdout",
          "text": [
            "Accuracy: 0.667\n",
            "Precision: 0.632\n",
            "Recall: 0.800\n",
            "F1 Score: 0.706\n"
          ]
        }
      ]
    },
    {
      "cell_type": "code",
      "source": [
        "from sklearn.metrics import roc_curve\n",
        "\n",
        "# roc curve for models\n",
        "fpr1, tpr1, thresh1 = roc_curve(y_test, y_predict, pos_label=1)\n",
        "# fpr2, tpr2, thresh2 = roc_curve(y_test, pred_prob2[:,1], pos_label=1)\n",
        "\n",
        "# roc curve for tpr = fpr \n",
        "random_probs = [0 for i in range(len(y_test))]\n",
        "p_fpr, p_tpr, _ = roc_curve(y_test, random_probs, pos_label=1)\n",
        "\n",
        "from sklearn.metrics import roc_auc_score\n",
        "\n",
        "# auc scores\n",
        "auc_score1 = roc_auc_score(y_test, y_predict)\n",
        "# auc_score2 = roc_auc_score(y_test, pred_prob2[:,1])\n",
        "\n",
        "#print(auc_score1)\n",
        "\n",
        "import matplotlib.pyplot as plt\n",
        "plt.style.use('seaborn')\n",
        "\n",
        "# plot roc curves\n",
        "plt.plot(fpr1, tpr1, linestyle='--',color='orange', label='SVM')\n",
        "# plt.plot(fpr2, tpr2, linestyle='--',color='green', label='KNN')\n",
        "plt.plot(p_fpr, p_tpr, linestyle='--', color='blue')\n",
        "# title\n",
        "plt.title('ROC curve')\n",
        "# x label\n",
        "plt.xlabel('False Positive Rate')\n",
        "# y label\n",
        "plt.ylabel('True Positive rate')\n",
        "\n",
        "plt.legend(loc='best')\n",
        "plt.savefig('ROC',dpi=300)\n",
        "plt.show();"
      ],
      "metadata": {
        "colab": {
          "base_uri": "https://localhost:8080/",
          "height": 376
        },
        "id": "1raV8o0s9CNC",
        "outputId": "b722b724-6a51-4153-b61e-8280d1e8317f"
      },
      "execution_count": 30,
      "outputs": [
        {
          "output_type": "display_data",
          "data": {
            "text/plain": [
              "<Figure size 576x396 with 1 Axes>"
            ],
            "image/png": "[encoded data removed]"
          },
          "metadata": {}
        }
      ]
    },
    {
      "cell_type": "markdown",
      "source": [
        "### Performance metrics ( accuracy, precision,recall,F1score, send,spec,area under ROC curve)"
      ],
      "metadata": {
        "id": "86b_YvpvDXTY"
      }
    },
    {
      "cell_type": "code",
      "source": [
        "accuracy_score(y_test, y_pred)\n",
        "print('Accuracy: %.3f' % accuracy_score(y_test, y_predict))\t\n",
        "print('Precision: %.3f' % precision_score(y_test, y_predict))\n",
        "print('Recall: %.3f' % recall_score(y_test, y_predict))\n",
        "print('F1 Score: %.3f' % f1_score(y_test, y_predict))"
      ],
      "metadata": {
        "colab": {
          "base_uri": "https://localhost:8080/"
        },
        "id": "Z4QH3JgNDRU0",
        "outputId": "acf91901-59fe-49d1-d676-e52dde10071f"
      },
      "execution_count": 31,
      "outputs": [
        {
          "output_type": "stream",
          "name": "stdout",
          "text": [
            "Accuracy: 0.667\n",
            "Precision: 0.632\n",
            "Recall: 0.800\n",
            "F1 Score: 0.706\n"
          ]
        }
      ]
    },
    {
      "cell_type": "code",
      "source": [
        "fig, ax = plt.subplots(figsize=(5, 5))\n",
        "ax.matshow(cm, cmap=plt.cm.Oranges, alpha=0.3)\n",
        "for i in range(cm.shape[0]):\n",
        "    for j in range(cm.shape[1]):\n",
        "        ax.text(x=j, y=i,s=cm[i, j], va='center', ha='center', size='xx-large')\n",
        " \n",
        "plt.xlabel('Predictions', fontsize=18)\n",
        "plt.ylabel('Actuals', fontsize=18)\n",
        "plt.title('Confusion Matrix', fontsize=18)\n",
        "plt.show()"
      ],
      "metadata": {
        "colab": {
          "base_uri": "https://localhost:8080/",
          "height": 356
        },
        "id": "oJF8TDVQBrvu",
        "outputId": "36599bdc-617e-40f0-af2b-33f3411b4d7a"
      },
      "execution_count": 32,
      "outputs": [
        {
          "output_type": "display_data",
          "data": {
            "text/plain": [
              "<Figure size 360x360 with 1 Axes>"
            ],
            "image/png": "[encoded data removed]"
          },
          "metadata": {}
        }
      ]
    },
    {
      "cell_type": "code",
      "source": [
        ""
      ],
      "metadata": {
        "id": "Jnx7DdhqPHuK"
      },
      "execution_count": 32,
      "outputs": []
    },
    {
      "cell_type": "code",
      "source": [
        ""
      ],
      "metadata": {
        "id": "Vyblr-NbPHbD"
      },
      "execution_count": 32,
      "outputs": []
    },
    {
      "cell_type": "code",
      "source": [
        ""
      ],
      "metadata": {
        "id": "s3H7cCTgPHPw"
      },
      "execution_count": 32,
      "outputs": []
    },
    {
      "cell_type": "code",
      "source": [
        ""
      ],
      "metadata": {
        "id": "VAQbiFblPG-n"
      },
      "execution_count": 32,
      "outputs": []
    },
    {
      "cell_type": "code",
      "source": [
        "print('Accuracy: %.3f' % accuracy_score(y_test, y_predict))\t\n",
        "print('Precision: %.3f' % precision_score(y_test, y_predict))\n",
        "print('Recall: %.3f' % recall_score(y_test, y_predict))\n",
        "print('F1 Score: %.3f' % f1_score(y_test, y_predict))"
      ],
      "metadata": {
        "colab": {
          "base_uri": "https://localhost:8080/"
        },
        "id": "LctNOTOWOHh_",
        "outputId": "402cba04-76f6-4f70-a1e8-c7c43d6063c8"
      },
      "execution_count": 33,
      "outputs": [
        {
          "output_type": "stream",
          "name": "stdout",
          "text": [
            "Accuracy: 0.667\n",
            "Precision: 0.632\n",
            "Recall: 0.800\n",
            "F1 Score: 0.706\n"
          ]
        }
      ]
    },
    {
      "cell_type": "markdown",
      "source": [
        "Variable importance plot "
      ],
      "metadata": {
        "id": "5dZsJ1RcISzp"
      }
    },
    {
      "cell_type": "code",
      "source": [
        "# plot feature importance\n",
        "from xgboost import plot_importance\n",
        "plot_importance(model)\n",
        "plt.show()"
      ],
      "metadata": {
        "colab": {
          "base_uri": "https://localhost:8080/",
          "height": 376
        },
        "id": "8Y344781GMwl",
        "outputId": "a35745a1-759e-4b55-b4dd-9d4d179732ae"
      },
      "execution_count": 34,
      "outputs": [
        {
          "output_type": "display_data",
          "data": {
            "text/plain": [
              "<Figure size 576x396 with 1 Axes>"
            ],
            "image/png": "[encoded data removed]"
          },
          "metadata": {}
        }
      ]
    },
    {
      "cell_type": "code",
      "source": [
        "from sklearn.metrics import roc_curve\n",
        "\n",
        "# roc curve for models\n",
        "fpr1, tpr1, thresh1 = roc_curve(y_test, y_predict, pos_label=1)\n",
        "# fpr2, tpr2, thresh2 = roc_curve(y_test, pred_prob2[:,1], pos_label=1)\n",
        "\n",
        "# roc curve for tpr = fpr \n",
        "random_probs = [0 for i in range(len(y_test))]\n",
        "p_fpr, p_tpr, _ = roc_curve(y_test, random_probs, pos_label=1)"
      ],
      "metadata": {
        "id": "8Qa3jbwH8WSR"
      },
      "execution_count": 35,
      "outputs": []
    },
    {
      "cell_type": "code",
      "source": [
        "from sklearn.metrics import roc_auc_score\n",
        "\n",
        "# auc scores\n",
        "auc_score1 = roc_auc_score(y_test, y_predict)\n",
        "# auc_score2 = roc_auc_score(y_test, pred_prob2[:,1])\n",
        "\n",
        "print(auc_score1)"
      ],
      "metadata": {
        "colab": {
          "base_uri": "https://localhost:8080/"
        },
        "id": "lu_6Auy88kZ_",
        "outputId": "478b4903-3fcb-4454-8d41-e2fa2f637942"
      },
      "execution_count": 36,
      "outputs": [
        {
          "output_type": "stream",
          "name": "stdout",
          "text": [
            "0.6666666666666666\n"
          ]
        }
      ]
    },
    {
      "cell_type": "code",
      "source": [
        "import matplotlib.pyplot as plt\n",
        "plt.style.use('seaborn')\n",
        "\n",
        "# plot roc curves\n",
        "plt.plot(fpr1, tpr1, linestyle='--',color='orange', label='SVM')\n",
        "# plt.plot(fpr2, tpr2, linestyle='--',color='green', label='KNN')\n",
        "plt.plot(p_fpr, p_tpr, linestyle='--', color='blue')\n",
        "# title\n",
        "plt.title('ROC curve')\n",
        "# x label\n",
        "plt.xlabel('False Positive Rate')\n",
        "# y label\n",
        "plt.ylabel('True Positive rate')\n",
        "\n",
        "plt.legend(loc='best')\n",
        "plt.savefig('ROC',dpi=300)\n",
        "plt.show();"
      ],
      "metadata": {
        "colab": {
          "base_uri": "https://localhost:8080/",
          "height": 376
        },
        "id": "5QY_OYGK8rQr",
        "outputId": "a8ff1c13-7a64-4f41-e1ae-d2d2d5bc015c"
      },
      "execution_count": 37,
      "outputs": [
        {
          "output_type": "display_data",
          "data": {
            "text/plain": [
              "<Figure size 576x396 with 1 Axes>"
            ],
            "image/png": "[encoded data removed]"
          },
          "metadata": {}
        }
      ]
    },
    {
      "cell_type": "code",
      "source": [
        "#Feature Selection with XGBoost Feature Importance Scores\n",
        "from sklearn.feature_selection import SelectFromModel\n",
        "from numpy import loadtxt\n",
        "from numpy import sort\n",
        "# Fit model using each importance as a threshold\n",
        "thresholds = sort(model.feature_importances_)\n",
        "for thresh in thresholds:\n",
        "\t# select features using threshold\n",
        "\tselection = SelectFromModel(model, threshold=thresh, prefit=True)\n",
        "\tselect_X_train = selection.transform(X_train)\n",
        "\t# train model\n",
        "\tselection_model = XGBClassifier()\n",
        "\tselection_model.fit(select_X_train, y_train)\n",
        "\t# eval model\n",
        "\tselect_X_test = selection.transform(X_test)\n",
        "\ty_pred = selection_model.predict(select_X_test)\n",
        "\tpredictions = [round(value) for value in y_pred]\n",
        "\taccuracy = accuracy_score(y_test, predictions)\n",
        "\tprint(\"Thresh=%.3f, n=%d, Accuracy: %.2f%%\" % (thresh, select_X_train.shape[1], accuracy*100.0))"
      ],
      "metadata": {
        "id": "Ky2TktqFGfuo",
        "colab": {
          "base_uri": "https://localhost:8080/"
        },
        "outputId": "0944ad9a-0610-4134-8732-f3b9fe540fa5"
      },
      "execution_count": 38,
      "outputs": [
        {
          "output_type": "stream",
          "name": "stdout",
          "text": [
            "Thresh=0.000, n=24, Accuracy: 53.33%\n",
            "Thresh=0.000, n=24, Accuracy: 53.33%\n",
            "Thresh=0.000, n=24, Accuracy: 53.33%\n",
            "Thresh=0.018, n=21, Accuracy: 53.33%\n",
            "Thresh=0.020, n=20, Accuracy: 53.33%\n",
            "Thresh=0.028, n=19, Accuracy: 53.33%\n",
            "Thresh=0.032, n=18, Accuracy: 53.33%\n",
            "Thresh=0.035, n=17, Accuracy: 53.33%\n",
            "Thresh=0.036, n=16, Accuracy: 53.33%\n",
            "Thresh=0.038, n=15, Accuracy: 53.33%\n",
            "Thresh=0.038, n=14, Accuracy: 60.00%\n",
            "Thresh=0.039, n=13, Accuracy: 56.67%\n",
            "Thresh=0.039, n=12, Accuracy: 60.00%\n",
            "Thresh=0.039, n=11, Accuracy: 50.00%\n",
            "Thresh=0.043, n=10, Accuracy: 50.00%\n",
            "Thresh=0.048, n=9, Accuracy: 46.67%\n",
            "Thresh=0.049, n=8, Accuracy: 43.33%\n",
            "Thresh=0.057, n=7, Accuracy: 46.67%\n",
            "Thresh=0.060, n=6, Accuracy: 43.33%\n",
            "Thresh=0.064, n=5, Accuracy: 43.33%\n",
            "Thresh=0.065, n=4, Accuracy: 43.33%\n",
            "Thresh=0.073, n=3, Accuracy: 53.33%\n",
            "Thresh=0.084, n=2, Accuracy: 43.33%\n",
            "Thresh=0.094, n=1, Accuracy: 53.33%\n"
          ]
        }
      ]
    },
    {
      "cell_type": "code",
      "source": [
        "# retrieve performance metrics\n",
        "#results = classifier.evals_result()"
      ],
      "metadata": {
        "id": "8rjnvn3N1DuD"
      },
      "execution_count": 39,
      "outputs": []
    },
    {
      "cell_type": "code",
      "source": [
        "# plot learning curves\n",
        "#plt.plot(results['validation_0']['logloss'], label='train')\n",
        "#plt.plot(results['validation_1']['logloss'], label='test')\n",
        "# show the legend\n",
        "#plt.legend()\n",
        "# show the plot\n",
        "#plt.show()"
      ],
      "metadata": {
        "id": "MagtA5LV1HIF"
      },
      "execution_count": 40,
      "outputs": []
    },
    {
      "cell_type": "code",
      "execution_count": 41,
      "metadata": {
        "id": "x46r6bYFs-_C",
        "colab": {
          "base_uri": "https://localhost:8080/",
          "height": 294
        },
        "outputId": "0e09906b-9907-4782-e514-e7022897122a"
      },
      "outputs": [
        {
          "output_type": "display_data",
          "data": {
            "text/plain": [
              "<Figure size 360x288 with 2 Axes>"
            ],
            "image/png": "[encoded data removed]"
          },
          "metadata": {}
        }
      ],
      "source": [
        "import matplotlib.pyplot as plt\n",
        "import seaborn as sns\n",
        "cm_df = pd.DataFrame(cm,\n",
        "                     index = [0,1],\n",
        "                     columns = [0,1])\n",
        "\n",
        "#Plotting the confusion matrix\n",
        "plt.figure(figsize=(5,4))\n",
        "sns.heatmap(cm_df, annot=True)\n",
        "plt.title('Confusion Matrix')\n",
        "plt.ylabel('Actal Values')\n",
        "plt.xlabel('Predicted Values')\n",
        "plt.show()"
      ]
    },
    {
      "cell_type": "markdown",
      "metadata": {
        "id": "EnbCjHgQ8XPn"
      },
      "source": [
        "## Applying k-Fold Cross Validation"
      ]
    },
    {
      "cell_type": "code",
      "execution_count": 42,
      "metadata": {
        "id": "yYbfiITD8ZAz",
        "colab": {
          "base_uri": "https://localhost:8080/"
        },
        "outputId": "bb1a84cc-999d-4836-c671-cb8d9b860021"
      },
      "outputs": [
        {
          "output_type": "stream",
          "name": "stdout",
          "text": [
            "Accuracy: 51.43 %\n",
            "Standard Deviation: 24.91 %\n"
          ]
        }
      ],
      "source": [
        "from sklearn.model_selection import cross_val_score\n",
        "from sklearn.model_selection import KFold\n",
        "accuracies = cross_val_score(estimator = model, X = X_train, y = y_train, cv = 10)\n",
        "print(\"Accuracy: {:.2f} %\".format(accuracies.mean()*100))\n",
        "print(\"Standard Deviation: {:.2f} %\".format(accuracies.std()*100))\n",
        "\n"
      ]
    },
    {
      "cell_type": "code",
      "source": [
        "from sklearn.model_selection import RepeatedKFold\n",
        "cv    = RepeatedKFold(n_splits=5, n_repeats=100, random_state=101)\n",
        "folds = [(train,test) for train, test in cv.split(X_train, y_train)]"
      ],
      "metadata": {
        "id": "YdQfUKI46PQz"
      },
      "execution_count": 43,
      "outputs": []
    },
    {
      "cell_type": "code",
      "source": [
        "from sklearn.metrics import roc_auc_score, roc_curve\n",
        "metrics = ['auc', 'fpr', 'tpr', 'thresholds']\n",
        "results = {\n",
        "    'train': {m:[] for m in metrics},\n",
        "    'val'  : {m:[] for m in metrics},\n",
        "    'test' : {m:[] for m in metrics}\n",
        "}\n",
        "\n",
        "params = {\n",
        "    'objective'   : 'binary:logistic',\n",
        "    'eval_metric' : 'logloss'\n",
        "}"
      ],
      "metadata": {
        "id": "q0Kl38ls6cQt"
      },
      "execution_count": 44,
      "outputs": []
    }
  ],
  "metadata": {
    "colab": {
      "collapsed_sections": [],
      "name": "XG_boost.ipynb",
      "provenance": [],
      "include_colab_link": true
    },
    "kernelspec": {
      "display_name": "Python 3",
      "name": "python3"
    }
  },
  "nbformat": 4,
  "nbformat_minor": 0
}