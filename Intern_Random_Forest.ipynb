{
  "nbformat": 4,
  "nbformat_minor": 0,
  "metadata": {
    "colab": {
      "name": "Intern Random Forest.ipynb",
      "provenance": [],
      "include_colab_link": true
    },
    "kernelspec": {
      "name": "python3",
      "display_name": "Python 3"
    }
  },
  "cells": [
    {
      "cell_type": "markdown",
      "metadata": {
        "id": "view-in-github",
        "colab_type": "text"
      },
      "source": [
        "<a href=\"https://colab.research.google.com/github/HarshBhatt123/A-Z-ML/blob/main/Intern_Random_Forest.ipynb\" target=\"_parent\"><img src=\"https://colab.research.google.com/assets/colab-badge.svg\" alt=\"Open In Colab\"/></a>"
      ]
    },
    {
      "cell_type": "markdown",
      "metadata": {
        "id": "LeamvpPVXuS_"
      },
      "source": [
        "# Random Forest Regression"
      ]
    },
    {
      "cell_type": "markdown",
      "metadata": {
        "id": "O2wvZ7SKXzVC"
      },
      "source": [
        "## Importing the libraries"
      ]
    },
    {
      "cell_type": "code",
      "metadata": {
        "id": "PVmESEFZX4Ig"
      },
      "source": [
        "import numpy as np\n",
        "import matplotlib.pyplot as plt\n",
        "import pandas as pd"
      ],
      "execution_count": 2,
      "outputs": []
    },
    {
      "cell_type": "markdown",
      "metadata": {
        "id": "zgbK_F8-X7em"
      },
      "source": [
        "## Importing the dataset"
      ]
    },
    {
      "cell_type": "code",
      "metadata": {
        "id": "adBE4tjQX_Bh"
      },
      "source": [
        "dataset = pd.read_csv('dataset.csv')\n",
        "X = dataset.iloc[:, 1:].values\n",
        "y = dataset.iloc[:, 0].values"
      ],
      "execution_count": 4,
      "outputs": []
    },
    {
      "cell_type": "code",
      "source": [
        "print(X)"
      ],
      "metadata": {
        "colab": {
          "base_uri": "https://localhost:8080/"
        },
        "id": "3G19mKOx3P4x",
        "outputId": "2c93acf5-980b-477e-8004-8468f607093c"
      },
      "execution_count": null,
      "outputs": [
        {
          "output_type": "stream",
          "name": "stdout",
          "text": [
            "[[38 'Married' 'INR 20,001 to 30,000' ...\n",
            "  'Often (once or twice in weekly trips)' 'Heavy traffic'\n",
            "  'Co-driver takes over driving']\n",
            " [40 'Married' 'INR 20,001 to 30,000' ...\n",
            "  'Often (once or twice in weekly trips)' 'Poor sleep'\n",
            "  'Co-driver takes over driving']\n",
            " [39 'Single' 'INR 30,000 and above' ...\n",
            "  'Sometimes (once or twice in a monthly trip)' 'Vehicle heat'\n",
            "  'Co-driver takes over driving']\n",
            " ...\n",
            " [46 'Married' 'INR 10,001 to 20,000' ...\n",
            "  'Sometimes (once or twice in a monthly trip)' 'Poor sleep'\n",
            "  'Wash face and drink water']\n",
            " [42 'Married' 'INR 10,001 to 20,000' ...\n",
            "  'Sometimes (once or twice in a monthly trip)' 'Poor sleep'\n",
            "  'Wash face and drink water']\n",
            " [46 'Married' 'INR 10,001 to 20,000' ...\n",
            "  'Sometimes (once or twice in a monthly trip)' 'Long driving time'\n",
            "  'Smoke/chew tobacco or drug']]\n"
          ]
        }
      ]
    },
    {
      "cell_type": "code",
      "source": [
        "print(y)"
      ],
      "metadata": {
        "colab": {
          "base_uri": "https://localhost:8080/"
        },
        "id": "sgPvSW549WNQ",
        "outputId": "7d8ae8a8-d653-4e3e-e72c-352138b23401"
      },
      "execution_count": 5,
      "outputs": [
        {
          "output_type": "stream",
          "name": "stdout",
          "text": [
            "['2=Sometimes' '2=Sometimes' '4=Nearly all the time' '3=Very often'\n",
            " '3=Very often' '3=Very often' '1=Rarely' '3=Very often'\n",
            " '4=Nearly all the time' '3=Very often' '2=Sometimes' '3=Very often'\n",
            " '3=Very often' '3=Very often' '3=Very often' '3=Very often'\n",
            " '3=Very often' '2=Sometimes' '3=Very often' '2=Sometimes' '3=Very often'\n",
            " '3=Very often' '2=Sometimes' '3=Very often' '4=Nearly all the time'\n",
            " '2=Sometimes' '1=Rarely' '2=Sometimes' '2=Sometimes' '3=Very often'\n",
            " '1=Rarely' '2=Sometimes' '3=Very often' '2=Sometimes' '2=Sometimes'\n",
            " '3=Very often' '4=Nearly all the time' '3=Very often' '1=Rarely'\n",
            " '2=Sometimes' '3=Very often' '2=Sometimes' '3=Very often' '3=Very often'\n",
            " '2=Sometimes' '3=Very often' '0=Never' '2=Sometimes' '1=Rarely'\n",
            " '2=Sometimes' '1=Rarely' '2=Sometimes' '2=Sometimes' '1=Rarely'\n",
            " '3=Very often' '2=Sometimes' '2=Sometimes' '3=Very often' '2=Sometimes'\n",
            " '4=Nearly all the time' '2=Sometimes' '2=Sometimes' '2=Sometimes'\n",
            " '3=Very often' '4=Nearly all the time' '2=Sometimes'\n",
            " '4=Nearly all the time' '0=Never' '1=Rarely' '2=Sometimes' '1=Rarely'\n",
            " '2=Sometimes' '3=Very often' '2=Sometimes' '3=Very often' '2=Sometimes'\n",
            " '3=Very often' '2=Sometimes' '2=Sometimes' '3=Very often' '1=Rarely'\n",
            " '1=Rarely' '4=Nearly all the time' '0=Never' '3=Very often'\n",
            " '3=Very often' '0=Never' '3=Very often' '3=Very often' '1=Rarely'\n",
            " '3=Very often' '3=Very often' '3=Very often' '1=Rarely' '3=Very often'\n",
            " '3=Very often' '1=Rarely' '3=Very often' '1=Rarely' '3=Very often']\n"
          ]
        }
      ]
    },
    {
      "cell_type": "markdown",
      "source": [
        "Taking care of missing data"
      ],
      "metadata": {
        "id": "DuS2EnGp7s-W"
      }
    },
    {
      "cell_type": "code",
      "source": [
        "dataset.isnull().sum(axis=0)"
      ],
      "metadata": {
        "colab": {
          "base_uri": "https://localhost:8080/"
        },
        "id": "kZTzsF0B7xLR",
        "outputId": "0c980503-4b3d-4b9d-8d52-8f5f4b8c3253"
      },
      "execution_count": 6,
      "outputs": [
        {
          "output_type": "execute_result",
          "data": {
            "text/plain": [
              "Y      0\n",
              "X1     0\n",
              "X2     0\n",
              "X3     0\n",
              "X4     0\n",
              "X5     0\n",
              "X6     0\n",
              "X7     0\n",
              "X8     0\n",
              "X9     0\n",
              "X10    0\n",
              "X11    0\n",
              "X12    0\n",
              "X13    0\n",
              "X14    0\n",
              "X15    0\n",
              "X16    0\n",
              "X17    1\n",
              "X18    0\n",
              "X19    0\n",
              "X20    0\n",
              "X21    1\n",
              "X22    0\n",
              "X23    0\n",
              "X24    0\n",
              "dtype: int64"
            ]
          },
          "metadata": {},
          "execution_count": 6
        }
      ]
    },
    {
      "cell_type": "code",
      "source": [
        "from sklearn.impute import SimpleImputer\n",
        "imputer = SimpleImputer(missing_values=np.nan, strategy='most_frequent')\n",
        "imputer.fit(X[:, 17:-1])\n",
        "X[:, 17:-1] = imputer.transform(X[:,17:-1])"
      ],
      "metadata": {
        "id": "PDrLTXZS77fN"
      },
      "execution_count": 7,
      "outputs": []
    },
    {
      "cell_type": "code",
      "source": [
        "print(X)"
      ],
      "metadata": {
        "colab": {
          "base_uri": "https://localhost:8080/"
        },
        "id": "MhGNZhzA99tf",
        "outputId": "56482fa1-37d5-47f0-9f6e-273b946a8c75"
      },
      "execution_count": 8,
      "outputs": [
        {
          "output_type": "stream",
          "name": "stdout",
          "text": [
            "[[38 'Married' 'INR 20,001 to 30,000' ...\n",
            "  'Often (once or twice in weekly trips)' 'Heavy traffic'\n",
            "  'Co-driver takes over driving']\n",
            " [40 'Married' 'INR 20,001 to 30,000' ...\n",
            "  'Often (once or twice in weekly trips)' 'Poor sleep'\n",
            "  'Co-driver takes over driving']\n",
            " [39 'Single' 'INR 30,000 and above' ...\n",
            "  'Sometimes (once or twice in a monthly trip)' 'Vehicle heat'\n",
            "  'Co-driver takes over driving']\n",
            " ...\n",
            " [46 'Married' 'INR 10,001 to 20,000' ...\n",
            "  'Sometimes (once or twice in a monthly trip)' 'Poor sleep'\n",
            "  'Wash face and drink water']\n",
            " [42 'Married' 'INR 10,001 to 20,000' ...\n",
            "  'Sometimes (once or twice in a monthly trip)' 'Poor sleep'\n",
            "  'Wash face and drink water']\n",
            " [46 'Married' 'INR 10,001 to 20,000' ...\n",
            "  'Sometimes (once or twice in a monthly trip)' 'Long driving time'\n",
            "  'Smoke/chew tobacco or drug']]\n"
          ]
        }
      ]
    },
    {
      "cell_type": "markdown",
      "source": [
        "### Encoding categorical data"
      ],
      "metadata": {
        "id": "LYN6Gk6G3aLU"
      }
    },
    {
      "cell_type": "code",
      "source": [
        "from sklearn.compose import ColumnTransformer\n",
        "from sklearn.preprocessing import OneHotEncoder\n",
        "ct = ColumnTransformer(transformers=[('encoder', OneHotEncoder(), [2,3,4])], remainder='passthrough')\n",
        "X = np.array(ct.fit_transform(X))"
      ],
      "metadata": {
        "id": "xzcVdmMB0prm"
      },
      "execution_count": 15,
      "outputs": []
    },
    {
      "cell_type": "code",
      "source": [
        "print(X)"
      ],
      "metadata": {
        "colab": {
          "base_uri": "https://localhost:8080/"
        },
        "id": "KiMPN0-Q4YYv",
        "outputId": "a5d0fd58-4fe9-48b2-cdd8-d74a2149f05c"
      },
      "execution_count": null,
      "outputs": [
        {
          "output_type": "stream",
          "name": "stdout",
          "text": [
            "[[1.0 0.0 1.0 ... 'Often (once or twice in weekly trips)' 'No'\n",
            "  'Often (once or twice in weekly trips)']\n",
            " [0.0 1.0 1.0 ... 'Sometimes (once or twice in montly trips)' 'No'\n",
            "  'Often (once or twice in weekly trips)']\n",
            " [1.0 0.0 1.0 ... 'Often (once or twice in weekly trips)' 'No'\n",
            "  'Sometimes (once or twice in a monthly trip)']\n",
            " ...\n",
            " [0.0 1.0 0.0 ... 'Never' 'Yes'\n",
            "  'Sometimes (once or twice in a monthly trip)']\n",
            " [0.0 1.0 0.0 ... 'Sometimes (once or twice in montly trips)' 'Yes'\n",
            "  'Sometimes (once or twice in a monthly trip)']\n",
            " [1.0 0.0 1.0 ... 'Sometimes (once or twice in montly trips)' 'Yes'\n",
            "  'Sometimes (once or twice in a monthly trip)']]\n"
          ]
        }
      ]
    },
    {
      "cell_type": "code",
      "source": [
        "from sklearn.preprocessing import LabelEncoder\n",
        "le = LabelEncoder()\n",
        "y = le.fit_transform(y)"
      ],
      "metadata": {
        "id": "66go4fN9DM7x"
      },
      "execution_count": null,
      "outputs": []
    },
    {
      "cell_type": "code",
      "source": [
        "print(y)"
      ],
      "metadata": {
        "colab": {
          "base_uri": "https://localhost:8080/"
        },
        "id": "K9q75bKFDOhI",
        "outputId": "337db869-fb36-4e3c-9958-b0557919db61"
      },
      "execution_count": null,
      "outputs": [
        {
          "output_type": "stream",
          "name": "stdout",
          "text": [
            "[2 2 4 3 3 3 1 3 4 3 2 3 3 3 3 3 3 2 3 2 3 3 2 3 4 2 1 2 2 3 1 2 3 2 2 3 4\n",
            " 3 1 2 3 2 3 3 2 3 0 2 1 2 1 2 2 1 3 2 2 3 2 4 2 2 2 3 4 2 4 0 1 2 1 2 3 2\n",
            " 3 2 3 2 2 3 1 1 4 0 3 3 0 3 3 1 3 3 3 1 3 3 1 3 1 3]\n"
          ]
        }
      ]
    },
    {
      "cell_type": "markdown",
      "metadata": {
        "id": "v4S2fyIBYDcu"
      },
      "source": [
        "## Training the Random Forest Regression model on the whole dataset"
      ]
    },
    {
      "cell_type": "code",
      "source": [
        "from sklearn.ensemble import RandomForestRegressor\n",
        "regressor = RandomForestRegressor(n_estimators = 100, random_state = 0)\n",
        "regressor.fit(X, y)"
      ],
      "metadata": {
        "id": "jhOLK6N4yjH3",
        "colab": {
          "base_uri": "https://localhost:8080/",
          "height": 363
        },
        "outputId": "20e0dd66-4407-427d-d69f-8b3ca7b599ab"
      },
      "execution_count": null,
      "outputs": [
        {
          "output_type": "error",
          "ename": "ValueError",
          "evalue": "ignored",
          "traceback": [
            "\u001b[0;31m---------------------------------------------------------------------------\u001b[0m",
            "\u001b[0;31mValueError\u001b[0m                                Traceback (most recent call last)",
            "\u001b[0;32m<ipython-input-75-230977965566>\u001b[0m in \u001b[0;36m<module>\u001b[0;34m()\u001b[0m\n\u001b[1;32m      1\u001b[0m \u001b[0;32mfrom\u001b[0m \u001b[0msklearn\u001b[0m\u001b[0;34m.\u001b[0m\u001b[0mensemble\u001b[0m \u001b[0;32mimport\u001b[0m \u001b[0mRandomForestRegressor\u001b[0m\u001b[0;34m\u001b[0m\u001b[0;34m\u001b[0m\u001b[0m\n\u001b[1;32m      2\u001b[0m \u001b[0mregressor\u001b[0m \u001b[0;34m=\u001b[0m \u001b[0mRandomForestRegressor\u001b[0m\u001b[0;34m(\u001b[0m\u001b[0mn_estimators\u001b[0m \u001b[0;34m=\u001b[0m \u001b[0;36m100\u001b[0m\u001b[0;34m,\u001b[0m \u001b[0mrandom_state\u001b[0m \u001b[0;34m=\u001b[0m \u001b[0;36m0\u001b[0m\u001b[0;34m)\u001b[0m\u001b[0;34m\u001b[0m\u001b[0;34m\u001b[0m\u001b[0m\n\u001b[0;32m----> 3\u001b[0;31m \u001b[0mregressor\u001b[0m\u001b[0;34m.\u001b[0m\u001b[0mfit\u001b[0m\u001b[0;34m(\u001b[0m\u001b[0mX\u001b[0m\u001b[0;34m,\u001b[0m \u001b[0my\u001b[0m\u001b[0;34m)\u001b[0m\u001b[0;34m\u001b[0m\u001b[0;34m\u001b[0m\u001b[0m\n\u001b[0m",
            "\u001b[0;32m/usr/local/lib/python3.7/dist-packages/sklearn/ensemble/_forest.py\u001b[0m in \u001b[0;36mfit\u001b[0;34m(self, X, y, sample_weight)\u001b[0m\n\u001b[1;32m    326\u001b[0m             \u001b[0;32mraise\u001b[0m \u001b[0mValueError\u001b[0m\u001b[0;34m(\u001b[0m\u001b[0;34m\"sparse multilabel-indicator for y is not supported.\"\u001b[0m\u001b[0;34m)\u001b[0m\u001b[0;34m\u001b[0m\u001b[0;34m\u001b[0m\u001b[0m\n\u001b[1;32m    327\u001b[0m         X, y = self._validate_data(\n\u001b[0;32m--> 328\u001b[0;31m             \u001b[0mX\u001b[0m\u001b[0;34m,\u001b[0m \u001b[0my\u001b[0m\u001b[0;34m,\u001b[0m \u001b[0mmulti_output\u001b[0m\u001b[0;34m=\u001b[0m\u001b[0;32mTrue\u001b[0m\u001b[0;34m,\u001b[0m \u001b[0maccept_sparse\u001b[0m\u001b[0;34m=\u001b[0m\u001b[0;34m\"csc\"\u001b[0m\u001b[0;34m,\u001b[0m \u001b[0mdtype\u001b[0m\u001b[0;34m=\u001b[0m\u001b[0mDTYPE\u001b[0m\u001b[0;34m\u001b[0m\u001b[0;34m\u001b[0m\u001b[0m\n\u001b[0m\u001b[1;32m    329\u001b[0m         )\n\u001b[1;32m    330\u001b[0m         \u001b[0;32mif\u001b[0m \u001b[0msample_weight\u001b[0m \u001b[0;32mis\u001b[0m \u001b[0;32mnot\u001b[0m \u001b[0;32mNone\u001b[0m\u001b[0;34m:\u001b[0m\u001b[0;34m\u001b[0m\u001b[0;34m\u001b[0m\u001b[0m\n",
            "\u001b[0;32m/usr/local/lib/python3.7/dist-packages/sklearn/base.py\u001b[0m in \u001b[0;36m_validate_data\u001b[0;34m(self, X, y, reset, validate_separately, **check_params)\u001b[0m\n\u001b[1;32m    579\u001b[0m                 \u001b[0my\u001b[0m \u001b[0;34m=\u001b[0m \u001b[0mcheck_array\u001b[0m\u001b[0;34m(\u001b[0m\u001b[0my\u001b[0m\u001b[0;34m,\u001b[0m \u001b[0;34m**\u001b[0m\u001b[0mcheck_y_params\u001b[0m\u001b[0;34m)\u001b[0m\u001b[0;34m\u001b[0m\u001b[0;34m\u001b[0m\u001b[0m\n\u001b[1;32m    580\u001b[0m             \u001b[0;32melse\u001b[0m\u001b[0;34m:\u001b[0m\u001b[0;34m\u001b[0m\u001b[0;34m\u001b[0m\u001b[0m\n\u001b[0;32m--> 581\u001b[0;31m                 \u001b[0mX\u001b[0m\u001b[0;34m,\u001b[0m \u001b[0my\u001b[0m \u001b[0;34m=\u001b[0m \u001b[0mcheck_X_y\u001b[0m\u001b[0;34m(\u001b[0m\u001b[0mX\u001b[0m\u001b[0;34m,\u001b[0m \u001b[0my\u001b[0m\u001b[0;34m,\u001b[0m \u001b[0;34m**\u001b[0m\u001b[0mcheck_params\u001b[0m\u001b[0;34m)\u001b[0m\u001b[0;34m\u001b[0m\u001b[0;34m\u001b[0m\u001b[0m\n\u001b[0m\u001b[1;32m    582\u001b[0m             \u001b[0mout\u001b[0m \u001b[0;34m=\u001b[0m \u001b[0mX\u001b[0m\u001b[0;34m,\u001b[0m \u001b[0my\u001b[0m\u001b[0;34m\u001b[0m\u001b[0;34m\u001b[0m\u001b[0m\n\u001b[1;32m    583\u001b[0m \u001b[0;34m\u001b[0m\u001b[0m\n",
            "\u001b[0;32m/usr/local/lib/python3.7/dist-packages/sklearn/utils/validation.py\u001b[0m in \u001b[0;36mcheck_X_y\u001b[0;34m(X, y, accept_sparse, accept_large_sparse, dtype, order, copy, force_all_finite, ensure_2d, allow_nd, multi_output, ensure_min_samples, ensure_min_features, y_numeric, estimator)\u001b[0m\n\u001b[1;32m    974\u001b[0m         \u001b[0mensure_min_samples\u001b[0m\u001b[0;34m=\u001b[0m\u001b[0mensure_min_samples\u001b[0m\u001b[0;34m,\u001b[0m\u001b[0;34m\u001b[0m\u001b[0;34m\u001b[0m\u001b[0m\n\u001b[1;32m    975\u001b[0m         \u001b[0mensure_min_features\u001b[0m\u001b[0;34m=\u001b[0m\u001b[0mensure_min_features\u001b[0m\u001b[0;34m,\u001b[0m\u001b[0;34m\u001b[0m\u001b[0;34m\u001b[0m\u001b[0m\n\u001b[0;32m--> 976\u001b[0;31m         \u001b[0mestimator\u001b[0m\u001b[0;34m=\u001b[0m\u001b[0mestimator\u001b[0m\u001b[0;34m,\u001b[0m\u001b[0;34m\u001b[0m\u001b[0;34m\u001b[0m\u001b[0m\n\u001b[0m\u001b[1;32m    977\u001b[0m     )\n\u001b[1;32m    978\u001b[0m \u001b[0;34m\u001b[0m\u001b[0m\n",
            "\u001b[0;32m/usr/local/lib/python3.7/dist-packages/sklearn/utils/validation.py\u001b[0m in \u001b[0;36mcheck_array\u001b[0;34m(array, accept_sparse, accept_large_sparse, dtype, order, copy, force_all_finite, ensure_2d, allow_nd, ensure_min_samples, ensure_min_features, estimator)\u001b[0m\n\u001b[1;32m    744\u001b[0m                     \u001b[0marray\u001b[0m \u001b[0;34m=\u001b[0m \u001b[0marray\u001b[0m\u001b[0;34m.\u001b[0m\u001b[0mastype\u001b[0m\u001b[0;34m(\u001b[0m\u001b[0mdtype\u001b[0m\u001b[0;34m,\u001b[0m \u001b[0mcasting\u001b[0m\u001b[0;34m=\u001b[0m\u001b[0;34m\"unsafe\"\u001b[0m\u001b[0;34m,\u001b[0m \u001b[0mcopy\u001b[0m\u001b[0;34m=\u001b[0m\u001b[0;32mFalse\u001b[0m\u001b[0;34m)\u001b[0m\u001b[0;34m\u001b[0m\u001b[0;34m\u001b[0m\u001b[0m\n\u001b[1;32m    745\u001b[0m                 \u001b[0;32melse\u001b[0m\u001b[0;34m:\u001b[0m\u001b[0;34m\u001b[0m\u001b[0;34m\u001b[0m\u001b[0m\n\u001b[0;32m--> 746\u001b[0;31m                     \u001b[0marray\u001b[0m \u001b[0;34m=\u001b[0m \u001b[0mnp\u001b[0m\u001b[0;34m.\u001b[0m\u001b[0masarray\u001b[0m\u001b[0;34m(\u001b[0m\u001b[0marray\u001b[0m\u001b[0;34m,\u001b[0m \u001b[0morder\u001b[0m\u001b[0;34m=\u001b[0m\u001b[0morder\u001b[0m\u001b[0;34m,\u001b[0m \u001b[0mdtype\u001b[0m\u001b[0;34m=\u001b[0m\u001b[0mdtype\u001b[0m\u001b[0;34m)\u001b[0m\u001b[0;34m\u001b[0m\u001b[0;34m\u001b[0m\u001b[0m\n\u001b[0m\u001b[1;32m    747\u001b[0m             \u001b[0;32mexcept\u001b[0m \u001b[0mComplexWarning\u001b[0m \u001b[0;32mas\u001b[0m \u001b[0mcomplex_warning\u001b[0m\u001b[0;34m:\u001b[0m\u001b[0;34m\u001b[0m\u001b[0;34m\u001b[0m\u001b[0m\n\u001b[1;32m    748\u001b[0m                 raise ValueError(\n",
            "\u001b[0;31mValueError\u001b[0m: could not convert string to float: 'Married'"
          ]
        }
      ]
    },
    {
      "cell_type": "markdown",
      "metadata": {
        "id": "8IbsXbK3YM4M"
      },
      "source": [
        "## Predicting a new result"
      ]
    },
    {
      "cell_type": "code",
      "metadata": {
        "id": "pTXrS8FEYQlJ"
      },
      "source": [
        "regressor.predict([[]])"
      ],
      "execution_count": null,
      "outputs": []
    }
  ]
}